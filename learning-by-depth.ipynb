{
 "cells": [
  {
   "cell_type": "code",
   "execution_count": 12,
   "id": "initial_id",
   "metadata": {
    "collapsed": true,
    "ExecuteTime": {
     "end_time": "2024-07-07T19:08:17.303456500Z",
     "start_time": "2024-07-07T19:08:17.278108800Z"
    }
   },
   "outputs": [
    {
     "name": "stdout",
     "output_type": "stream",
     "text": [
      "Important Package Versions...\n",
      "\n",
      "qiskit                  : 1.1.1\n",
      "qiskit_machine_learning : 0.7.2\n",
      "qiskit_algorithms       : 0.3.0\n",
      "numpy                   : 1.24.3\n",
      "torch                   : 2.3.1\n"
     ]
    }
   ],
   "source": [
    "# Imports...\n",
    "import os.path\n",
    "from os import makedirs\n",
    "from tqdm.notebook import tqdm\n",
    "import pandas as pd\n",
    "import numpy as np\n",
    "\n",
    "# Classical ML.\n",
    "import torch\n",
    "from torch.nn import Module\n",
    "from torch.optim import Adam\n",
    "from torch import manual_seed\n",
    "from torch.utils.data import DataLoader\n",
    "from sklearn.model_selection import train_test_split\n",
    "\n",
    "# Quantum ML.\n",
    "from qiskit_algorithms.utils import algorithm_globals\n",
    "from qiskit.quantum_info.random import random_statevector\n",
    "from qiskit_machine_learning.connectors import TorchConnector\n",
    "from qiskit_machine_learning.neural_networks import SamplerQNN\n",
    "\n",
    "# Version control.\n",
    "from qiskit import __version__ as qiskit_version\n",
    "from qiskit_machine_learning import __version__ as qml_version\n",
    "from qiskit_algorithms import __version__ as alg_version\n",
    "from torch import __version__ as torch_version\n",
    "\n",
    "# Plotting.\n",
    "from IPython.display import clear_output\n",
    "import matplotlib.pyplot as plt\n",
    "import seaborn as sns\n",
    "\n",
    "# Scripts.\n",
    "from scripts.utils import sample_n_states\n",
    "from scripts.circuits import build_circuit\n",
    "from scripts.learning import build_qnn_circuit, train_by_scipy, train_by_COBYLA_no_recylcing, train_by_torch\n",
    "\n",
    "# Styling.\n",
    "sns.set_context('paper')\n",
    "sns.set_theme(style='darkgrid', palette='Dark2')\n",
    "\n",
    "# Device management.\n",
    "if torch.cuda.is_available(): device = torch.device('cuda')\n",
    "else: device = torch.device('cpu')\n",
    "\n",
    "# Random seed setting.\n",
    "def set_seed(seed):\n",
    "    if seed is None: return\n",
    "    \n",
    "    algorithm_globals.random_seed = seed\n",
    "    np.random.seed(seed)\n",
    "    manual_seed(seed)\n",
    "    \n",
    "set_seed(42)\n",
    "\n",
    "# Package versions (ignoring packages that obviously won't be a problem).\n",
    "print('Important Package Versions...\\n')\n",
    "versions = [('qiskit', qiskit_version), ('qiskit_machine_learning', qml_version), ('qiskit_algorithms', alg_version), ('numpy', np.__version__), ('torch', torch_version)]\n",
    "\n",
    "pad = max([len(x) for x, _ in versions])\n",
    "for package, version in versions:\n",
    "    print(f'{package:<{pad}} : {version}')"
   ]
  },
  {
   "cell_type": "markdown",
   "source": [
    "# Learning By Depth\n",
    "\n",
    "We are now more confident that local inversion may be learnt by a variational/QNN approach. The next thing to think about is how well the learning generalises and scales in the complexity of the problem. To that end, we now explore:\n",
    "- Is the performance of our method is a function of the unknown unitary's depth (i.e. if the loss cannot be brought to zero, then does it increase as a function of unitary depth)?\n",
    "- What is the relationship between the depth of the ansatz required to reach a particular performance (e.g. loss no greater than 0.1) and the depth of the unknown unitary?\n",
    "- How does the runtime scale in unitary depth (e.g. when the anstaz depth is kept fixed)?\n",
    "- How many randomly distributed input samples are required to learn a unitary, and how does it depend on the depth of that unitary?"
   ],
   "metadata": {
    "collapsed": false
   },
   "id": "25b7f0ac209c04e0"
  },
  {
   "cell_type": "markdown",
   "source": [
    "## Demonstrating the Learning Algorithm"
   ],
   "metadata": {
    "collapsed": false
   },
   "id": "d4c44506a9bd6c62"
  },
  {
   "cell_type": "code",
   "execution_count": 2,
   "outputs": [],
   "source": [
    "# Sample a unitary to learn and choose the target qubits (to learn the local inversion for).\n",
    "n, d = 4, 4\n",
    "U = build_circuit(n=n, d=d)\n",
    "target_qubits = [1, 2]\n",
    "\n",
    "# Build a circuit for the QNN from U.\n",
    "qnn_circuit, input_parameters, weight_parameters = build_qnn_circuit(U, ansatz_reps=3, target_qubits=target_qubits)\n",
    "\n",
    "# Define a QNN object. \n",
    "qnn = SamplerQNN(\n",
    "    circuit=qnn_circuit,\n",
    "    input_params=input_parameters,\n",
    "    weight_params=weight_parameters,\n",
    "    interpret=lambda x: x, # I'm not actually sure you have to explicitly give an identity interpret.\n",
    "    output_shape=2, # When specifying an interpret function, output shape cannot be implied, so we must state it.\n",
    "    input_gradients=True # We must use input gradients to work correctly with PyTorch.\n",
    ")\n",
    "\n",
    "# Explicitly declare initial weights (else they will be uniformly randomly sampled from [-1, 1]).\n",
    "initial_weights = .1 * (2 * algorithm_globals.random.random(qnn.num_weights) - 1)\n",
    "\n",
    "# Define a PyTorch model from the QNN (and move it to device).\n",
    "model = TorchConnector(qnn, initial_weights=initial_weights)\n",
    "model = model.to(device)"
   ],
   "metadata": {
    "collapsed": false,
    "ExecuteTime": {
     "end_time": "2024-07-07T18:09:10.468600400Z",
     "start_time": "2024-07-07T18:09:10.376273200Z"
    }
   },
   "id": "f513ca5a09d31963"
  },
  {
   "cell_type": "code",
   "execution_count": 3,
   "outputs": [
    {
     "data": {
      "text/plain": "                         \nq_0: ────────────■────■──\n          ┌───┐┌─┴─┐  │  \nq_1: ──■──┤ X ├┤ X ├──┼──\n       │  ├───┤└───┘┌─┴─┐\nq_2: ──┼──┤ Z ├─────┤ X ├\n     ┌─┴─┐├───┤     └───┘\nq_3: ┤ X ├┤ S ├──────────\n     └───┘└───┘          ",
      "text/html": "<pre style=\"word-wrap: normal;white-space: pre;background: #fff0;line-height: 1.1;font-family: &quot;Courier New&quot;,Courier,monospace\">                         \nq_0: ────────────■────■──\n          ┌───┐┌─┴─┐  │  \nq_1: ──■──┤ X ├┤ X ├──┼──\n       │  ├───┤└───┘┌─┴─┐\nq_2: ──┼──┤ Z ├─────┤ X ├\n     ┌─┴─┐├───┤     └───┘\nq_3: ┤ X ├┤ S ├──────────\n     └───┘└───┘          </pre>"
     },
     "execution_count": 3,
     "metadata": {},
     "output_type": "execute_result"
    }
   ],
   "source": [
    "# Just out of curiosity, what are we learning?\n",
    "U.draw()"
   ],
   "metadata": {
    "collapsed": false,
    "ExecuteTime": {
     "end_time": "2024-07-07T18:09:10.919522400Z",
     "start_time": "2024-07-07T18:09:10.910472400Z"
    }
   },
   "id": "9466fcc6077659ca"
  },
  {
   "cell_type": "code",
   "execution_count": 4,
   "outputs": [],
   "source": [
    "# Train and validation sets.\n",
    "xs_train = sample_n_states(n_states=24, n_qubits=n)\n",
    "xs_val = sample_n_states(n_states=16, n_qubits=n)\n",
    "\n",
    "# As DataLoaders.\n",
    "batch_size = 8\n",
    "train_loader = DataLoader(xs_train, batch_size=batch_size)\n",
    "val_loader = DataLoader(xs_val, batch_size=batch_size)"
   ],
   "metadata": {
    "collapsed": false,
    "ExecuteTime": {
     "end_time": "2024-07-07T18:09:10.944169700Z",
     "start_time": "2024-07-07T18:09:10.919522400Z"
    }
   },
   "id": "dbd0715c5a842a61"
  },
  {
   "cell_type": "markdown",
   "source": [
    "### Optimisation by SciPy methods"
   ],
   "metadata": {
    "collapsed": false
   },
   "id": "398eebecdef5a15"
  },
  {
   "cell_type": "code",
   "execution_count": 5,
   "outputs": [
    {
     "data": {
      "text/plain": "<Figure size 400x300 with 1 Axes>",
      "image/png": "[encoded data removed]"
     },
     "metadata": {},
     "output_type": "display_data"
    }
   ],
   "source": [
    "# With recycling (by COBYLA).\n",
    "_ = train_by_scipy(qnn, xs_train, xs_val, n_epochs=500, initial_weights=initial_weights, live_plot=True)"
   ],
   "metadata": {
    "collapsed": false
   },
   "id": "b9fba023c76ec6e7"
  },
  {
   "cell_type": "code",
   "execution_count": 47,
   "outputs": [
    {
     "data": {
      "text/plain": "<Figure size 400x300 with 1 Axes>",
      "image/png": "[encoded data removed]"
     },
     "metadata": {},
     "output_type": "display_data"
    }
   ],
   "source": [
    "# Without recycling.\n",
    "_ = train_by_COBYLA_no_recylcing(qnn, batch_size=20, n_epochs=300, initial_weights=initial_weights, live_plot=True)"
   ],
   "metadata": {
    "collapsed": false
   },
   "id": "a45b02df6b00b16c"
  },
  {
   "cell_type": "markdown",
   "source": [
    "### Optimisation by PyTorch methods"
   ],
   "metadata": {
    "collapsed": false
   },
   "id": "81affeb33f3483c1"
  },
  {
   "cell_type": "code",
   "execution_count": 7,
   "outputs": [
    {
     "data": {
      "text/plain": "<Figure size 400x300 with 1 Axes>",
      "image/png": "[encoded data removed]"
     },
     "metadata": {},
     "output_type": "display_data"
    }
   ],
   "source": [
    "_ = train_by_torch(model, train_loader, val_loader, n_epochs=100, lr=1e-2, live_plot=True)"
   ],
   "metadata": {
    "collapsed": false
   },
   "id": "5cc29500b23524ad"
  },
  {
   "cell_type": "markdown",
   "source": [
    "## Performance by Depth of $U$\n",
    "\n",
    "At each depth $d$ of $U$, we need to get a sense of how \"difficult\" the learning task is. This \"difficulty\" may as well be quantified by how good we can get performance, or how much resource we need to get adequate performance. For now, the way we'll do it is as follows: to quantify how well we can perform at depth $d$, we will observe the average train and validation losses (again, defined by SWAP tests) we get when training a QNN with fixed-depth ansatz for some sufficiently long time (we're not going to wait for full convergence because we're impatient like that) on a set of $d$-deep unknown unitaries $U$. Some preliminary investigation suggests one $U$ per depth $d$ might actually be enough. We might want to try a few different \"fixed\" depths for the ansatz so that the deeper $U$ are still learnable, but of course we have no idea how $d$ and the depth of the ansatz should be related (yet)."
   ],
   "metadata": {
    "collapsed": false
   },
   "id": "5713db90027b7003"
  },
  {
   "cell_type": "code",
   "execution_count": 9,
   "outputs": [
    {
     "data": {
      "text/plain": "     A   B   C\nid            \n0    1   2   3\n0   10  20  30",
      "text/html": "<div>\n<style scoped>\n    .dataframe tbody tr th:only-of-type {\n        vertical-align: middle;\n    }\n\n    .dataframe tbody tr th {\n        vertical-align: top;\n    }\n\n    .dataframe thead th {\n        text-align: right;\n    }\n</style>\n<table border=\"1\" class=\"dataframe\">\n  <thead>\n    <tr style=\"text-align: right;\">\n      <th></th>\n      <th>A</th>\n      <th>B</th>\n      <th>C</th>\n    </tr>\n    <tr>\n      <th>id</th>\n      <th></th>\n      <th></th>\n      <th></th>\n    </tr>\n  </thead>\n  <tbody>\n    <tr>\n      <th>0</th>\n      <td>1</td>\n      <td>2</td>\n      <td>3</td>\n    </tr>\n    <tr>\n      <th>0</th>\n      <td>10</td>\n      <td>20</td>\n      <td>30</td>\n    </tr>\n  </tbody>\n</table>\n</div>"
     },
     "execution_count": 9,
     "metadata": {},
     "output_type": "execute_result"
    }
   ],
   "source": [
    "# Reminder about how to incrementally add to a CSV via Pandas.\n",
    "headers = pd.DataFrame(columns=['id', 'A', 'B', 'C']).set_index('id')\n",
    "headers.to_csv('./data/test.csv')\n",
    "\n",
    "new_data = pd.DataFrame({'A': [1], 'B': [2], 'C': [3]})\n",
    "new_data.to_csv('./data/test.csv', mode='a', header=False)\n",
    "\n",
    "more_new_data = pd.DataFrame({'A': [10], 'B': [20], 'C': [30]})\n",
    "more_new_data.to_csv('./data/test.csv', mode='a', header=False)\n",
    "\n",
    "read_in_data = pd.read_csv('./data/test.csv').set_index('id')\n",
    "read_in_data"
   ],
   "metadata": {
    "collapsed": false,
    "ExecuteTime": {
     "end_time": "2024-07-07T19:06:22.505696500Z",
     "start_time": "2024-07-07T19:06:22.460796900Z"
    }
   },
   "id": "cd9e706021cf786"
  },
  {
   "cell_type": "code",
   "execution_count": 16,
   "outputs": [
    {
     "data": {
      "text/plain": "Learning local inversions:   0%|          | 0/10 [00:00<?, ?it/s]",
      "application/vnd.jupyter.widget-view+json": {
       "version_major": 2,
       "version_minor": 0,
       "model_id": "e6868778b7924943ad0496a842007b83"
      }
     },
     "metadata": {},
     "output_type": "display_data"
    },
    {
     "data": {
      "text/plain": "Trying different ansatz depths:   0%|          | 0/3 [00:00<?, ?it/s]",
      "application/vnd.jupyter.widget-view+json": {
       "version_major": 2,
       "version_minor": 0,
       "model_id": "695a991d9eab4668b919f1c6121128af"
      }
     },
     "metadata": {},
     "output_type": "display_data"
    },
    {
     "data": {
      "text/plain": "Trying different ansatz depths:   0%|          | 0/3 [00:00<?, ?it/s]",
      "application/vnd.jupyter.widget-view+json": {
       "version_major": 2,
       "version_minor": 0,
       "model_id": "e4e281fb611049338fc7b440f2194c84"
      }
     },
     "metadata": {},
     "output_type": "display_data"
    },
    {
     "data": {
      "text/plain": "Trying different ansatz depths:   0%|          | 0/3 [00:00<?, ?it/s]",
      "application/vnd.jupyter.widget-view+json": {
       "version_major": 2,
       "version_minor": 0,
       "model_id": "b3c24f1658f8459780db076e29d897a1"
      }
     },
     "metadata": {},
     "output_type": "display_data"
    },
    {
     "data": {
      "text/plain": "Trying different ansatz depths:   0%|          | 0/3 [00:00<?, ?it/s]",
      "application/vnd.jupyter.widget-view+json": {
       "version_major": 2,
       "version_minor": 0,
       "model_id": "daf4230163574414b3e6676eb141a0e6"
      }
     },
     "metadata": {},
     "output_type": "display_data"
    },
    {
     "data": {
      "text/plain": "Trying different ansatz depths:   0%|          | 0/3 [00:00<?, ?it/s]",
      "application/vnd.jupyter.widget-view+json": {
       "version_major": 2,
       "version_minor": 0,
       "model_id": "03a8339e2f3b4137b3ae78d36bd9163f"
      }
     },
     "metadata": {},
     "output_type": "display_data"
    },
    {
     "data": {
      "text/plain": "Trying different ansatz depths:   0%|          | 0/3 [00:00<?, ?it/s]",
      "application/vnd.jupyter.widget-view+json": {
       "version_major": 2,
       "version_minor": 0,
       "model_id": "aae17e3290444a859320581643dea098"
      }
     },
     "metadata": {},
     "output_type": "display_data"
    },
    {
     "data": {
      "text/plain": "Trying different ansatz depths:   0%|          | 0/3 [00:00<?, ?it/s]",
      "application/vnd.jupyter.widget-view+json": {
       "version_major": 2,
       "version_minor": 0,
       "model_id": "ea6e8672bb904358bffc65bba65e1c41"
      }
     },
     "metadata": {},
     "output_type": "display_data"
    },
    {
     "data": {
      "text/plain": "Trying different ansatz depths:   0%|          | 0/3 [00:00<?, ?it/s]",
      "application/vnd.jupyter.widget-view+json": {
       "version_major": 2,
       "version_minor": 0,
       "model_id": "3b2d0749a6c64f9388d45d0f03ad4870"
      }
     },
     "metadata": {},
     "output_type": "display_data"
    },
    {
     "data": {
      "text/plain": "Trying different ansatz depths:   0%|          | 0/3 [00:00<?, ?it/s]",
      "application/vnd.jupyter.widget-view+json": {
       "version_major": 2,
       "version_minor": 0,
       "model_id": "592baa9474f84c62b4d63def3c5cf295"
      }
     },
     "metadata": {},
     "output_type": "display_data"
    },
    {
     "data": {
      "text/plain": "Trying different ansatz depths:   0%|          | 0/3 [00:00<?, ?it/s]",
      "application/vnd.jupyter.widget-view+json": {
       "version_major": 2,
       "version_minor": 0,
       "model_id": "4c5f298a052f4048a22e508323d6627b"
      }
     },
     "metadata": {},
     "output_type": "display_data"
    },
    {
     "data": {
      "text/plain": "    id  Train Loss  Val Loss  U Depth  No. Qubits  Ansatz Depth  \\\n0    0    0.108571  0.150169        4           4             3   \n1    0    0.117494  0.123723        4           4             4   \n2    0    0.225764  0.329657        4           4             5   \n3    0    0.118270  0.041086        4           4             3   \n4    0    0.106309  0.035761        4           4             4   \n5    0    0.162665  0.194451        4           4             5   \n6    0    0.227753  0.306724        4           4             3   \n7    0    0.009450  0.010473        4           4             4   \n8    0    0.158766  0.239909        4           4             5   \n9    0    0.240187  0.271448        4           4             3   \n10   0    0.084355  0.138648        4           4             4   \n11   0    0.136089  0.148694        4           4             5   \n12   0    0.268932  0.329405        4           4             3   \n13   0    0.000541  0.000475        4           4             4   \n14   0    0.261740  0.308842        4           4             5   \n15   0    0.233412  0.282556        4           4             3   \n16   0    0.093871  0.054067        4           4             4   \n17   0    0.210420  0.262309        4           4             5   \n18   0    0.174772  0.163033        4           4             3   \n19   0    0.001992  0.002010        4           4             4   \n20   0    0.178688  0.213110        4           4             5   \n21   0    0.126076  0.147639        4           4             3   \n22   0    0.073819  0.148578        4           4             4   \n23   0    0.124299  0.151359        4           4             5   \n24   0    0.207889  0.231823        4           4             3   \n25   0    0.000819  0.000869        4           4             4   \n26   0    0.113364  0.092158        4           4             5   \n27   0    0.222853  0.306367        4           4             3   \n28   0    0.002993  0.004180        4           4             4   \n29   0    0.131514  0.252419        4           4             5   \n\n    Mean Epoch Runtime  Epochs  \n0             0.232136     500  \n1             0.282112     500  \n2             0.362170     500  \n3             0.291220     500  \n4             0.355303     500  \n5             0.413393     500  \n6             0.304274     500  \n7             0.354618     500  \n8             0.434280     500  \n9             0.312951     500  \n10            0.368098     500  \n11            0.388292     500  \n12            0.246971     500  \n13            0.292414     500  \n14            0.335573     500  \n15            0.243356     500  \n16            0.287340     500  \n17            0.330376     500  \n18            0.240721     500  \n19            0.285018     500  \n20            0.329911     500  \n21            0.240077     500  \n22            0.284889     500  \n23            0.330347     500  \n24            0.236066     500  \n25            0.277764     500  \n26            0.320761     500  \n27            0.234183     500  \n28            0.277588     500  \n29            0.322052     500  ",
      "text/html": "<div>\n<style scoped>\n    .dataframe tbody tr th:only-of-type {\n        vertical-align: middle;\n    }\n\n    .dataframe tbody tr th {\n        vertical-align: top;\n    }\n\n    .dataframe thead th {\n        text-align: right;\n    }\n</style>\n<table border=\"1\" class=\"dataframe\">\n  <thead>\n    <tr style=\"text-align: right;\">\n      <th></th>\n      <th>id</th>\n      <th>Train Loss</th>\n      <th>Val Loss</th>\n      <th>U Depth</th>\n      <th>No. Qubits</th>\n      <th>Ansatz Depth</th>\n      <th>Mean Epoch Runtime</th>\n      <th>Epochs</th>\n    </tr>\n  </thead>\n  <tbody>\n    <tr>\n      <th>0</th>\n      <td>0</td>\n      <td>0.108571</td>\n      <td>0.150169</td>\n      <td>4</td>\n      <td>4</td>\n      <td>3</td>\n      <td>0.232136</td>\n      <td>500</td>\n    </tr>\n    <tr>\n      <th>1</th>\n      <td>0</td>\n      <td>0.117494</td>\n      <td>0.123723</td>\n      <td>4</td>\n      <td>4</td>\n      <td>4</td>\n      <td>0.282112</td>\n      <td>500</td>\n    </tr>\n    <tr>\n      <th>2</th>\n      <td>0</td>\n      <td>0.225764</td>\n      <td>0.329657</td>\n      <td>4</td>\n      <td>4</td>\n      <td>5</td>\n      <td>0.362170</td>\n      <td>500</td>\n    </tr>\n    <tr>\n      <th>3</th>\n      <td>0</td>\n      <td>0.118270</td>\n      <td>0.041086</td>\n      <td>4</td>\n      <td>4</td>\n      <td>3</td>\n      <td>0.291220</td>\n      <td>500</td>\n    </tr>\n    <tr>\n      <th>4</th>\n      <td>0</td>\n      <td>0.106309</td>\n      <td>0.035761</td>\n      <td>4</td>\n      <td>4</td>\n      <td>4</td>\n      <td>0.355303</td>\n      <td>500</td>\n    </tr>\n    <tr>\n      <th>5</th>\n      <td>0</td>\n      <td>0.162665</td>\n      <td>0.194451</td>\n      <td>4</td>\n      <td>4</td>\n      <td>5</td>\n      <td>0.413393</td>\n      <td>500</td>\n    </tr>\n    <tr>\n      <th>6</th>\n      <td>0</td>\n      <td>0.227753</td>\n      <td>0.306724</td>\n      <td>4</td>\n      <td>4</td>\n      <td>3</td>\n      <td>0.304274</td>\n      <td>500</td>\n    </tr>\n    <tr>\n      <th>7</th>\n      <td>0</td>\n      <td>0.009450</td>\n      <td>0.010473</td>\n      <td>4</td>\n      <td>4</td>\n      <td>4</td>\n      <td>0.354618</td>\n      <td>500</td>\n    </tr>\n    <tr>\n      <th>8</th>\n      <td>0</td>\n      <td>0.158766</td>\n      <td>0.239909</td>\n      <td>4</td>\n      <td>4</td>\n      <td>5</td>\n      <td>0.434280</td>\n      <td>500</td>\n    </tr>\n    <tr>\n      <th>9</th>\n      <td>0</td>\n      <td>0.240187</td>\n      <td>0.271448</td>\n      <td>4</td>\n      <td>4</td>\n      <td>3</td>\n      <td>0.312951</td>\n      <td>500</td>\n    </tr>\n    <tr>\n      <th>10</th>\n      <td>0</td>\n      <td>0.084355</td>\n      <td>0.138648</td>\n      <td>4</td>\n      <td>4</td>\n      <td>4</td>\n      <td>0.368098</td>\n      <td>500</td>\n    </tr>\n    <tr>\n      <th>11</th>\n      <td>0</td>\n      <td>0.136089</td>\n      <td>0.148694</td>\n      <td>4</td>\n      <td>4</td>\n      <td>5</td>\n      <td>0.388292</td>\n      <td>500</td>\n    </tr>\n    <tr>\n      <th>12</th>\n      <td>0</td>\n      <td>0.268932</td>\n      <td>0.329405</td>\n      <td>4</td>\n      <td>4</td>\n      <td>3</td>\n      <td>0.246971</td>\n      <td>500</td>\n    </tr>\n    <tr>\n      <th>13</th>\n      <td>0</td>\n      <td>0.000541</td>\n      <td>0.000475</td>\n      <td>4</td>\n      <td>4</td>\n      <td>4</td>\n      <td>0.292414</td>\n      <td>500</td>\n    </tr>\n    <tr>\n      <th>14</th>\n      <td>0</td>\n      <td>0.261740</td>\n      <td>0.308842</td>\n      <td>4</td>\n      <td>4</td>\n      <td>5</td>\n      <td>0.335573</td>\n      <td>500</td>\n    </tr>\n    <tr>\n      <th>15</th>\n      <td>0</td>\n      <td>0.233412</td>\n      <td>0.282556</td>\n      <td>4</td>\n      <td>4</td>\n      <td>3</td>\n      <td>0.243356</td>\n      <td>500</td>\n    </tr>\n    <tr>\n      <th>16</th>\n      <td>0</td>\n      <td>0.093871</td>\n      <td>0.054067</td>\n      <td>4</td>\n      <td>4</td>\n      <td>4</td>\n      <td>0.287340</td>\n      <td>500</td>\n    </tr>\n    <tr>\n      <th>17</th>\n      <td>0</td>\n      <td>0.210420</td>\n      <td>0.262309</td>\n      <td>4</td>\n      <td>4</td>\n      <td>5</td>\n      <td>0.330376</td>\n      <td>500</td>\n    </tr>\n    <tr>\n      <th>18</th>\n      <td>0</td>\n      <td>0.174772</td>\n      <td>0.163033</td>\n      <td>4</td>\n      <td>4</td>\n      <td>3</td>\n      <td>0.240721</td>\n      <td>500</td>\n    </tr>\n    <tr>\n      <th>19</th>\n      <td>0</td>\n      <td>0.001992</td>\n      <td>0.002010</td>\n      <td>4</td>\n      <td>4</td>\n      <td>4</td>\n      <td>0.285018</td>\n      <td>500</td>\n    </tr>\n    <tr>\n      <th>20</th>\n      <td>0</td>\n      <td>0.178688</td>\n      <td>0.213110</td>\n      <td>4</td>\n      <td>4</td>\n      <td>5</td>\n      <td>0.329911</td>\n      <td>500</td>\n    </tr>\n    <tr>\n      <th>21</th>\n      <td>0</td>\n      <td>0.126076</td>\n      <td>0.147639</td>\n      <td>4</td>\n      <td>4</td>\n      <td>3</td>\n      <td>0.240077</td>\n      <td>500</td>\n    </tr>\n    <tr>\n      <th>22</th>\n      <td>0</td>\n      <td>0.073819</td>\n      <td>0.148578</td>\n      <td>4</td>\n      <td>4</td>\n      <td>4</td>\n      <td>0.284889</td>\n      <td>500</td>\n    </tr>\n    <tr>\n      <th>23</th>\n      <td>0</td>\n      <td>0.124299</td>\n      <td>0.151359</td>\n      <td>4</td>\n      <td>4</td>\n      <td>5</td>\n      <td>0.330347</td>\n      <td>500</td>\n    </tr>\n    <tr>\n      <th>24</th>\n      <td>0</td>\n      <td>0.207889</td>\n      <td>0.231823</td>\n      <td>4</td>\n      <td>4</td>\n      <td>3</td>\n      <td>0.236066</td>\n      <td>500</td>\n    </tr>\n    <tr>\n      <th>25</th>\n      <td>0</td>\n      <td>0.000819</td>\n      <td>0.000869</td>\n      <td>4</td>\n      <td>4</td>\n      <td>4</td>\n      <td>0.277764</td>\n      <td>500</td>\n    </tr>\n    <tr>\n      <th>26</th>\n      <td>0</td>\n      <td>0.113364</td>\n      <td>0.092158</td>\n      <td>4</td>\n      <td>4</td>\n      <td>5</td>\n      <td>0.320761</td>\n      <td>500</td>\n    </tr>\n    <tr>\n      <th>27</th>\n      <td>0</td>\n      <td>0.222853</td>\n      <td>0.306367</td>\n      <td>4</td>\n      <td>4</td>\n      <td>3</td>\n      <td>0.234183</td>\n      <td>500</td>\n    </tr>\n    <tr>\n      <th>28</th>\n      <td>0</td>\n      <td>0.002993</td>\n      <td>0.004180</td>\n      <td>4</td>\n      <td>4</td>\n      <td>4</td>\n      <td>0.277588</td>\n      <td>500</td>\n    </tr>\n    <tr>\n      <th>29</th>\n      <td>0</td>\n      <td>0.131514</td>\n      <td>0.252419</td>\n      <td>4</td>\n      <td>4</td>\n      <td>5</td>\n      <td>0.322052</td>\n      <td>500</td>\n    </tr>\n  </tbody>\n</table>\n</div>"
     },
     "execution_count": 16,
     "metadata": {},
     "output_type": "execute_result"
    }
   ],
   "source": [
    "# Function to evaluate how well we can perform over n_U randomly generated unitaries of depth d, with each depth of ansatz specified in ansatz_reps.\n",
    "def evaluate_at_depth_by_scipy(n, d, n_U, ansatz_reps, save_path, n_train_samples, n_val_samples, n_epochs, method='COYBLA', verbose=False, overwrite=False, seed=42):\n",
    "    # Reset seed.\n",
    "    set_seed(seed)\n",
    "    \n",
    "    # Checking given path.\n",
    "    assert save_path[-4:] == '.csv', 'Save path must be a .csv file extension.'\n",
    "    \n",
    "    # Ensure the directory to the save path exists.\n",
    "    makedirs(os.path.dirname(save_path), exist_ok=True)\n",
    "    \n",
    "    # If the save file does not already exist, create it with the appropriate headers.\n",
    "    if not os.path.exists(save_path) or overwrite: pd.DataFrame(columns=['id', 'Train Loss', 'Val Loss', 'U Depth', 'No. Qubits', 'Ansatz Depth', 'Mean Epoch Runtime', 'Epochs']).set_index('id').to_csv(save_path)\n",
    "    \n",
    "    # Evaluating over n_U randomly generated unitaries...\n",
    "    for _ in (tqdm(range(n_U), desc='Learning local inversions', leave=False) if verbose else range(n_U)):\n",
    "        # Generate a random unitary.\n",
    "        U = build_circuit(n=n, d=d, seed=None)\n",
    "        \n",
    "        # Arbitrarily choose the target qubits; no need to randomise this choice -- the unitary is already random!\n",
    "        target_qubits = [1, 2]\n",
    "        \n",
    "        # Train and validation sets.\n",
    "        xs_train = sample_n_states(n_states=n_train_samples, n_qubits=n, seed=None)\n",
    "        xs_val = sample_n_states(n_states=n_val_samples, n_qubits=n, seed=None)\n",
    "        \n",
    "        # And evaluating over the depths in ansatz_reps...\n",
    "        for reps in (tqdm(ansatz_reps, desc='Trying different ansatz depths', leave=False) if verbose else ansatz_reps):\n",
    "            # Build a circuit for the QNN from U.\n",
    "            qnn_circuit, input_parameters, weight_parameters = build_qnn_circuit(U, ansatz_reps=reps, target_qubits=target_qubits, multi_swap=True)\n",
    "            \n",
    "            # Define a QNN object. \n",
    "            qnn = SamplerQNN(\n",
    "                circuit=qnn_circuit,\n",
    "                input_params=input_parameters,\n",
    "                weight_params=weight_parameters,\n",
    "                interpret=lambda x: x,\n",
    "                output_shape=2 ** len(target_qubits), # Multi-qubit SWAP test outputs.\n",
    "                input_gradients=True\n",
    "            )\n",
    "            \n",
    "            # Explicitly declare initial weights (else they will be uniformly randomly sampled from [-1, 1]).\n",
    "            initial_weights = .1 * (2 * algorithm_globals.random.random(qnn.num_weights) - 1)\n",
    "            \n",
    "            # Train the QNN.\n",
    "            stats = train_by_scipy(qnn, xs_train, xs_val, n_epochs, initial_weights, method, seed=None)\n",
    "            \n",
    "            # Write the stats to the save path.\n",
    "            pd.DataFrame({\n",
    "                'Train Loss': [np.min(stats['train_loss'])], \n",
    "                'Val Loss': [np.min(stats['val_loss'])], \n",
    "                'U Depth': [d], \n",
    "                'No. Qubits': [n], \n",
    "                'Ansatz Depth': [reps], \n",
    "                'Mean Epoch Runtime': [np.mean(stats['runtime'])], \n",
    "                'Epochs': [len(stats['train_loss'])]\n",
    "            }).to_csv(save_path, mode='a', header=False)\n",
    "            \n",
    "    # When all is said and done, let's do the final read of the CSV file to give back.\n",
    "    return pd.read_csv(save_path).set_index('id').reset_index()\n",
    "     \n",
    "# Testing the function at a depth.       \n",
    "evaluate_at_depth_by_scipy(n=4, d=4, n_U=10, ansatz_reps=[3, 4, 5], save_path='./data/performance-test.csv', n_train_samples=32, n_val_samples=8, n_epochs=500, verbose=True, overwrite=True)"
   ],
   "metadata": {
    "collapsed": false,
    "ExecuteTime": {
     "end_time": "2024-07-07T20:27:45.705914600Z",
     "start_time": "2024-07-07T19:10:56.054474700Z"
    }
   },
   "id": "7852a7b31f34f01b"
  },
  {
   "cell_type": "code",
   "execution_count": 53,
   "outputs": [
    {
     "data": {
      "text/plain": "<Axes: xlabel='Ansatz Depth', ylabel='Mean Epoch Runtime'>"
     },
     "execution_count": 53,
     "metadata": {},
     "output_type": "execute_result"
    },
    {
     "data": {
      "text/plain": "<Figure size 640x480 with 1 Axes>",
      "image/png": "[encoded data removed]"
     },
     "metadata": {},
     "output_type": "display_data"
    }
   ],
   "source": [
    "sns.barplot(data=pd.read_csv('./data/performance-test.csv'), x='Ansatz Depth', y='Mean Epoch Runtime', capsize=.1)"
   ],
   "metadata": {
    "collapsed": false,
    "ExecuteTime": {
     "end_time": "2024-07-07T20:41:54.831360900Z",
     "start_time": "2024-07-07T20:41:54.646036900Z"
    }
   },
   "id": "79a0dba3a0f6f305"
  },
  {
   "cell_type": "code",
   "execution_count": 69,
   "outputs": [
    {
     "data": {
      "text/plain": "Trying different unitary depths:   0%|          | 0/10 [00:00<?, ?it/s]",
      "application/vnd.jupyter.widget-view+json": {
       "version_major": 2,
       "version_minor": 0,
       "model_id": "f47fbadaeee44e9799c5c5701c9e9c85"
      }
     },
     "metadata": {},
     "output_type": "display_data"
    },
    {
     "data": {
      "text/plain": "Learning local inversions:   0%|          | 0/5 [00:00<?, ?it/s]",
      "application/vnd.jupyter.widget-view+json": {
       "version_major": 2,
       "version_minor": 0,
       "model_id": "283f360faaba407db1400d7821f2aaba"
      }
     },
     "metadata": {},
     "output_type": "display_data"
    },
    {
     "data": {
      "text/plain": "Trying different ansatz depths:   0%|          | 0/5 [00:00<?, ?it/s]",
      "application/vnd.jupyter.widget-view+json": {
       "version_major": 2,
       "version_minor": 0,
       "model_id": "349edc0b182b44e58e70de9ae2cffb86"
      }
     },
     "metadata": {},
     "output_type": "display_data"
    },
    {
     "data": {
      "text/plain": "Trying different ansatz depths:   0%|          | 0/5 [00:00<?, ?it/s]",
      "application/vnd.jupyter.widget-view+json": {
       "version_major": 2,
       "version_minor": 0,
       "model_id": "3371d46710894eba82481574092e9aca"
      }
     },
     "metadata": {},
     "output_type": "display_data"
    },
    {
     "data": {
      "text/plain": "Trying different ansatz depths:   0%|          | 0/5 [00:00<?, ?it/s]",
      "application/vnd.jupyter.widget-view+json": {
       "version_major": 2,
       "version_minor": 0,
       "model_id": "be3119f756184332ac417d9cb403a596"
      }
     },
     "metadata": {},
     "output_type": "display_data"
    },
    {
     "data": {
      "text/plain": "Trying different ansatz depths:   0%|          | 0/5 [00:00<?, ?it/s]",
      "application/vnd.jupyter.widget-view+json": {
       "version_major": 2,
       "version_minor": 0,
       "model_id": "ff581f725940439ca0a0c8e9ab54bea5"
      }
     },
     "metadata": {},
     "output_type": "display_data"
    },
    {
     "data": {
      "text/plain": "Trying different ansatz depths:   0%|          | 0/5 [00:00<?, ?it/s]",
      "application/vnd.jupyter.widget-view+json": {
       "version_major": 2,
       "version_minor": 0,
       "model_id": "f03d41eeb0b940309b3fc7e7a0c2cf7a"
      }
     },
     "metadata": {},
     "output_type": "display_data"
    },
    {
     "data": {
      "text/plain": "Learning local inversions:   0%|          | 0/5 [00:00<?, ?it/s]",
      "application/vnd.jupyter.widget-view+json": {
       "version_major": 2,
       "version_minor": 0,
       "model_id": "682f16263fea49e2a361476b299d7b4c"
      }
     },
     "metadata": {},
     "output_type": "display_data"
    },
    {
     "data": {
      "text/plain": "Trying different ansatz depths:   0%|          | 0/5 [00:00<?, ?it/s]",
      "application/vnd.jupyter.widget-view+json": {
       "version_major": 2,
       "version_minor": 0,
       "model_id": "ca6553bfb7e3443784209d0a0b8f121a"
      }
     },
     "metadata": {},
     "output_type": "display_data"
    },
    {
     "data": {
      "text/plain": "Trying different ansatz depths:   0%|          | 0/5 [00:00<?, ?it/s]",
      "application/vnd.jupyter.widget-view+json": {
       "version_major": 2,
       "version_minor": 0,
       "model_id": "72fc2ce2a5ac484799decda5f91a1136"
      }
     },
     "metadata": {},
     "output_type": "display_data"
    },
    {
     "data": {
      "text/plain": "Trying different ansatz depths:   0%|          | 0/5 [00:00<?, ?it/s]",
      "application/vnd.jupyter.widget-view+json": {
       "version_major": 2,
       "version_minor": 0,
       "model_id": "e0a4d03e32e64d32865186d5af0c25ea"
      }
     },
     "metadata": {},
     "output_type": "display_data"
    },
    {
     "data": {
      "text/plain": "Trying different ansatz depths:   0%|          | 0/5 [00:00<?, ?it/s]",
      "application/vnd.jupyter.widget-view+json": {
       "version_major": 2,
       "version_minor": 0,
       "model_id": "f451c291c64a4163aa04011dba7852d1"
      }
     },
     "metadata": {},
     "output_type": "display_data"
    },
    {
     "data": {
      "text/plain": "Trying different ansatz depths:   0%|          | 0/5 [00:00<?, ?it/s]",
      "application/vnd.jupyter.widget-view+json": {
       "version_major": 2,
       "version_minor": 0,
       "model_id": "cc5238a858ec42a996c45aa6ce14bb75"
      }
     },
     "metadata": {},
     "output_type": "display_data"
    },
    {
     "data": {
      "text/plain": "Learning local inversions:   0%|          | 0/5 [00:00<?, ?it/s]",
      "application/vnd.jupyter.widget-view+json": {
       "version_major": 2,
       "version_minor": 0,
       "model_id": "8497be873ff6443f9135286afeea7dc0"
      }
     },
     "metadata": {},
     "output_type": "display_data"
    },
    {
     "data": {
      "text/plain": "Trying different ansatz depths:   0%|          | 0/5 [00:00<?, ?it/s]",
      "application/vnd.jupyter.widget-view+json": {
       "version_major": 2,
       "version_minor": 0,
       "model_id": "011df57dd2f34dd1b2a9e782460adc96"
      }
     },
     "metadata": {},
     "output_type": "display_data"
    },
    {
     "data": {
      "text/plain": "Trying different ansatz depths:   0%|          | 0/5 [00:00<?, ?it/s]",
      "application/vnd.jupyter.widget-view+json": {
       "version_major": 2,
       "version_minor": 0,
       "model_id": "b1353585cd9346f2a5ea847b647bbcaa"
      }
     },
     "metadata": {},
     "output_type": "display_data"
    },
    {
     "data": {
      "text/plain": "Trying different ansatz depths:   0%|          | 0/5 [00:00<?, ?it/s]",
      "application/vnd.jupyter.widget-view+json": {
       "version_major": 2,
       "version_minor": 0,
       "model_id": "7361fd2662b24710a3fefd88a82b073b"
      }
     },
     "metadata": {},
     "output_type": "display_data"
    },
    {
     "data": {
      "text/plain": "Trying different ansatz depths:   0%|          | 0/5 [00:00<?, ?it/s]",
      "application/vnd.jupyter.widget-view+json": {
       "version_major": 2,
       "version_minor": 0,
       "model_id": "b90429ad4b524ff080d2468a78325ca7"
      }
     },
     "metadata": {},
     "output_type": "display_data"
    },
    {
     "data": {
      "text/plain": "Trying different ansatz depths:   0%|          | 0/5 [00:00<?, ?it/s]",
      "application/vnd.jupyter.widget-view+json": {
       "version_major": 2,
       "version_minor": 0,
       "model_id": "1efb32aabe874e1b8d4ffa5c52a4ff69"
      }
     },
     "metadata": {},
     "output_type": "display_data"
    },
    {
     "data": {
      "text/plain": "Learning local inversions:   0%|          | 0/5 [00:00<?, ?it/s]",
      "application/vnd.jupyter.widget-view+json": {
       "version_major": 2,
       "version_minor": 0,
       "model_id": "c492e12d775f4b38979de0117c0d2d4c"
      }
     },
     "metadata": {},
     "output_type": "display_data"
    },
    {
     "data": {
      "text/plain": "Trying different ansatz depths:   0%|          | 0/5 [00:00<?, ?it/s]",
      "application/vnd.jupyter.widget-view+json": {
       "version_major": 2,
       "version_minor": 0,
       "model_id": "82c10d85c82248bfb2b2c09fb7aa0960"
      }
     },
     "metadata": {},
     "output_type": "display_data"
    },
    {
     "data": {
      "text/plain": "Trying different ansatz depths:   0%|          | 0/5 [00:00<?, ?it/s]",
      "application/vnd.jupyter.widget-view+json": {
       "version_major": 2,
       "version_minor": 0,
       "model_id": "032248b4d2d84bf09a83cbeb39c8b6a3"
      }
     },
     "metadata": {},
     "output_type": "display_data"
    },
    {
     "data": {
      "text/plain": "Trying different ansatz depths:   0%|          | 0/5 [00:00<?, ?it/s]",
      "application/vnd.jupyter.widget-view+json": {
       "version_major": 2,
       "version_minor": 0,
       "model_id": "c91fc4327cba4e28943a7b60038debe9"
      }
     },
     "metadata": {},
     "output_type": "display_data"
    },
    {
     "data": {
      "text/plain": "Trying different ansatz depths:   0%|          | 0/5 [00:00<?, ?it/s]",
      "application/vnd.jupyter.widget-view+json": {
       "version_major": 2,
       "version_minor": 0,
       "model_id": "58e771a1d5134f099c64552b93490592"
      }
     },
     "metadata": {},
     "output_type": "display_data"
    },
    {
     "data": {
      "text/plain": "Trying different ansatz depths:   0%|          | 0/5 [00:00<?, ?it/s]",
      "application/vnd.jupyter.widget-view+json": {
       "version_major": 2,
       "version_minor": 0,
       "model_id": "e4bf0589ee4d48f99dc72028afa8a076"
      }
     },
     "metadata": {},
     "output_type": "display_data"
    },
    {
     "data": {
      "text/plain": "Learning local inversions:   0%|          | 0/5 [00:00<?, ?it/s]",
      "application/vnd.jupyter.widget-view+json": {
       "version_major": 2,
       "version_minor": 0,
       "model_id": "15d465bc59624aa3bd9882a8853efa9c"
      }
     },
     "metadata": {},
     "output_type": "display_data"
    },
    {
     "data": {
      "text/plain": "Trying different ansatz depths:   0%|          | 0/5 [00:00<?, ?it/s]",
      "application/vnd.jupyter.widget-view+json": {
       "version_major": 2,
       "version_minor": 0,
       "model_id": "39900a3d2a44444cbe12bd5cca6d66a0"
      }
     },
     "metadata": {},
     "output_type": "display_data"
    },
    {
     "data": {
      "text/plain": "Trying different ansatz depths:   0%|          | 0/5 [00:00<?, ?it/s]",
      "application/vnd.jupyter.widget-view+json": {
       "version_major": 2,
       "version_minor": 0,
       "model_id": "424a6d2866254bc899dbd1ea37373fb5"
      }
     },
     "metadata": {},
     "output_type": "display_data"
    },
    {
     "data": {
      "text/plain": "Trying different ansatz depths:   0%|          | 0/5 [00:00<?, ?it/s]",
      "application/vnd.jupyter.widget-view+json": {
       "version_major": 2,
       "version_minor": 0,
       "model_id": "9020d845d0754f5aac1e8506e36a8215"
      }
     },
     "metadata": {},
     "output_type": "display_data"
    },
    {
     "data": {
      "text/plain": "Trying different ansatz depths:   0%|          | 0/5 [00:00<?, ?it/s]",
      "application/vnd.jupyter.widget-view+json": {
       "version_major": 2,
       "version_minor": 0,
       "model_id": "290322f748ec47f78d5bd99a45b0b115"
      }
     },
     "metadata": {},
     "output_type": "display_data"
    },
    {
     "data": {
      "text/plain": "Trying different ansatz depths:   0%|          | 0/5 [00:00<?, ?it/s]",
      "application/vnd.jupyter.widget-view+json": {
       "version_major": 2,
       "version_minor": 0,
       "model_id": "bb2def38ec4f475ead90d49ddbd6d4ac"
      }
     },
     "metadata": {},
     "output_type": "display_data"
    },
    {
     "data": {
      "text/plain": "Learning local inversions:   0%|          | 0/5 [00:00<?, ?it/s]",
      "application/vnd.jupyter.widget-view+json": {
       "version_major": 2,
       "version_minor": 0,
       "model_id": "d966746d0421482a8356300d9a7d6d7a"
      }
     },
     "metadata": {},
     "output_type": "display_data"
    },
    {
     "data": {
      "text/plain": "Trying different ansatz depths:   0%|          | 0/5 [00:00<?, ?it/s]",
      "application/vnd.jupyter.widget-view+json": {
       "version_major": 2,
       "version_minor": 0,
       "model_id": "a116c55f2408462ea6ccaff7ee9b5242"
      }
     },
     "metadata": {},
     "output_type": "display_data"
    },
    {
     "data": {
      "text/plain": "Trying different ansatz depths:   0%|          | 0/5 [00:00<?, ?it/s]",
      "application/vnd.jupyter.widget-view+json": {
       "version_major": 2,
       "version_minor": 0,
       "model_id": "d796064318394760ae98efd47eb0c6ca"
      }
     },
     "metadata": {},
     "output_type": "display_data"
    },
    {
     "data": {
      "text/plain": "Trying different ansatz depths:   0%|          | 0/5 [00:00<?, ?it/s]",
      "application/vnd.jupyter.widget-view+json": {
       "version_major": 2,
       "version_minor": 0,
       "model_id": "3cf47cfa42694411ac9ac4df8636096d"
      }
     },
     "metadata": {},
     "output_type": "display_data"
    },
    {
     "data": {
      "text/plain": "Trying different ansatz depths:   0%|          | 0/5 [00:00<?, ?it/s]",
      "application/vnd.jupyter.widget-view+json": {
       "version_major": 2,
       "version_minor": 0,
       "model_id": "2b8177700e9e44a3a207a062005c63bb"
      }
     },
     "metadata": {},
     "output_type": "display_data"
    },
    {
     "data": {
      "text/plain": "Trying different ansatz depths:   0%|          | 0/5 [00:00<?, ?it/s]",
      "application/vnd.jupyter.widget-view+json": {
       "version_major": 2,
       "version_minor": 0,
       "model_id": "13504753c4714b8189ae3c2ca9a515d4"
      }
     },
     "metadata": {},
     "output_type": "display_data"
    },
    {
     "data": {
      "text/plain": "Learning local inversions:   0%|          | 0/5 [00:00<?, ?it/s]",
      "application/vnd.jupyter.widget-view+json": {
       "version_major": 2,
       "version_minor": 0,
       "model_id": "c4c2d56604eb48a9816683a9ec8c2f5a"
      }
     },
     "metadata": {},
     "output_type": "display_data"
    },
    {
     "data": {
      "text/plain": "Trying different ansatz depths:   0%|          | 0/5 [00:00<?, ?it/s]",
      "application/vnd.jupyter.widget-view+json": {
       "version_major": 2,
       "version_minor": 0,
       "model_id": "c51c5aca131c4f3eaae3c01b7d6008a1"
      }
     },
     "metadata": {},
     "output_type": "display_data"
    },
    {
     "data": {
      "text/plain": "Trying different ansatz depths:   0%|          | 0/5 [00:00<?, ?it/s]",
      "application/vnd.jupyter.widget-view+json": {
       "version_major": 2,
       "version_minor": 0,
       "model_id": "ea19997189c94362842fbfd4eb67439f"
      }
     },
     "metadata": {},
     "output_type": "display_data"
    },
    {
     "data": {
      "text/plain": "Trying different ansatz depths:   0%|          | 0/5 [00:00<?, ?it/s]",
      "application/vnd.jupyter.widget-view+json": {
       "version_major": 2,
       "version_minor": 0,
       "model_id": "38d9c5dafdbf40cfa78f0d8e92e53bb0"
      }
     },
     "metadata": {},
     "output_type": "display_data"
    },
    {
     "data": {
      "text/plain": "Trying different ansatz depths:   0%|          | 0/5 [00:00<?, ?it/s]",
      "application/vnd.jupyter.widget-view+json": {
       "version_major": 2,
       "version_minor": 0,
       "model_id": "b7ab0b9dca214e50b6cbefeb47ca16c1"
      }
     },
     "metadata": {},
     "output_type": "display_data"
    },
    {
     "data": {
      "text/plain": "Trying different ansatz depths:   0%|          | 0/5 [00:00<?, ?it/s]",
      "application/vnd.jupyter.widget-view+json": {
       "version_major": 2,
       "version_minor": 0,
       "model_id": "50dc68b4e89b412d96d5e5fc99d2a6e5"
      }
     },
     "metadata": {},
     "output_type": "display_data"
    },
    {
     "data": {
      "text/plain": "Learning local inversions:   0%|          | 0/5 [00:00<?, ?it/s]",
      "application/vnd.jupyter.widget-view+json": {
       "version_major": 2,
       "version_minor": 0,
       "model_id": "1d5ce46907d848dfb2a1e630dfc77483"
      }
     },
     "metadata": {},
     "output_type": "display_data"
    },
    {
     "data": {
      "text/plain": "Trying different ansatz depths:   0%|          | 0/5 [00:00<?, ?it/s]",
      "application/vnd.jupyter.widget-view+json": {
       "version_major": 2,
       "version_minor": 0,
       "model_id": "8851c4605342467eb79b714e0cfc94e0"
      }
     },
     "metadata": {},
     "output_type": "display_data"
    },
    {
     "data": {
      "text/plain": "Trying different ansatz depths:   0%|          | 0/5 [00:00<?, ?it/s]",
      "application/vnd.jupyter.widget-view+json": {
       "version_major": 2,
       "version_minor": 0,
       "model_id": "cfd0468b76074756ab607f1b21b1a7c6"
      }
     },
     "metadata": {},
     "output_type": "display_data"
    },
    {
     "data": {
      "text/plain": "Trying different ansatz depths:   0%|          | 0/5 [00:00<?, ?it/s]",
      "application/vnd.jupyter.widget-view+json": {
       "version_major": 2,
       "version_minor": 0,
       "model_id": "51bfa63b90fe423693aebe5f75adc68f"
      }
     },
     "metadata": {},
     "output_type": "display_data"
    },
    {
     "data": {
      "text/plain": "Trying different ansatz depths:   0%|          | 0/5 [00:00<?, ?it/s]",
      "application/vnd.jupyter.widget-view+json": {
       "version_major": 2,
       "version_minor": 0,
       "model_id": "0ebdd33c9a4a43c19637b4adf0c80451"
      }
     },
     "metadata": {},
     "output_type": "display_data"
    },
    {
     "data": {
      "text/plain": "Trying different ansatz depths:   0%|          | 0/5 [00:00<?, ?it/s]",
      "application/vnd.jupyter.widget-view+json": {
       "version_major": 2,
       "version_minor": 0,
       "model_id": "2cdcc2b7922348a4832054dda5684788"
      }
     },
     "metadata": {},
     "output_type": "display_data"
    },
    {
     "data": {
      "text/plain": "Learning local inversions:   0%|          | 0/5 [00:00<?, ?it/s]",
      "application/vnd.jupyter.widget-view+json": {
       "version_major": 2,
       "version_minor": 0,
       "model_id": "f6c5ef7e563046cdb241ea04496f00bd"
      }
     },
     "metadata": {},
     "output_type": "display_data"
    },
    {
     "data": {
      "text/plain": "Trying different ansatz depths:   0%|          | 0/5 [00:00<?, ?it/s]",
      "application/vnd.jupyter.widget-view+json": {
       "version_major": 2,
       "version_minor": 0,
       "model_id": "dae08cc160e64b8299e39f017d694624"
      }
     },
     "metadata": {},
     "output_type": "display_data"
    },
    {
     "data": {
      "text/plain": "Trying different ansatz depths:   0%|          | 0/5 [00:00<?, ?it/s]",
      "application/vnd.jupyter.widget-view+json": {
       "version_major": 2,
       "version_minor": 0,
       "model_id": "ef1bc258b7d8475b951f247ad7d5e09d"
      }
     },
     "metadata": {},
     "output_type": "display_data"
    },
    {
     "data": {
      "text/plain": "Trying different ansatz depths:   0%|          | 0/5 [00:00<?, ?it/s]",
      "application/vnd.jupyter.widget-view+json": {
       "version_major": 2,
       "version_minor": 0,
       "model_id": "93220de70179414a955953142f7026b6"
      }
     },
     "metadata": {},
     "output_type": "display_data"
    },
    {
     "data": {
      "text/plain": "Trying different ansatz depths:   0%|          | 0/5 [00:00<?, ?it/s]",
      "application/vnd.jupyter.widget-view+json": {
       "version_major": 2,
       "version_minor": 0,
       "model_id": "c430923671ef464097550a19b9800e87"
      }
     },
     "metadata": {},
     "output_type": "display_data"
    },
    {
     "data": {
      "text/plain": "Trying different ansatz depths:   0%|          | 0/5 [00:00<?, ?it/s]",
      "application/vnd.jupyter.widget-view+json": {
       "version_major": 2,
       "version_minor": 0,
       "model_id": "f5d794f3f0d04512b23ec82637017646"
      }
     },
     "metadata": {},
     "output_type": "display_data"
    },
    {
     "data": {
      "text/plain": "Learning local inversions:   0%|          | 0/5 [00:00<?, ?it/s]",
      "application/vnd.jupyter.widget-view+json": {
       "version_major": 2,
       "version_minor": 0,
       "model_id": "6f052519ae1e4d7bac8e36b38fd3b03b"
      }
     },
     "metadata": {},
     "output_type": "display_data"
    },
    {
     "data": {
      "text/plain": "Trying different ansatz depths:   0%|          | 0/5 [00:00<?, ?it/s]",
      "application/vnd.jupyter.widget-view+json": {
       "version_major": 2,
       "version_minor": 0,
       "model_id": "33b1a731122c4632939f3d77401e9c62"
      }
     },
     "metadata": {},
     "output_type": "display_data"
    },
    {
     "data": {
      "text/plain": "Trying different ansatz depths:   0%|          | 0/5 [00:00<?, ?it/s]",
      "application/vnd.jupyter.widget-view+json": {
       "version_major": 2,
       "version_minor": 0,
       "model_id": "1d6d110138d4491195eb965655a0b203"
      }
     },
     "metadata": {},
     "output_type": "display_data"
    },
    {
     "data": {
      "text/plain": "Trying different ansatz depths:   0%|          | 0/5 [00:00<?, ?it/s]",
      "application/vnd.jupyter.widget-view+json": {
       "version_major": 2,
       "version_minor": 0,
       "model_id": "0b4c220a8ddd41b58732f31780d74737"
      }
     },
     "metadata": {},
     "output_type": "display_data"
    },
    {
     "data": {
      "text/plain": "Trying different ansatz depths:   0%|          | 0/5 [00:00<?, ?it/s]",
      "application/vnd.jupyter.widget-view+json": {
       "version_major": 2,
       "version_minor": 0,
       "model_id": "8e16d63881a84c2395105ba9bdfd318a"
      }
     },
     "metadata": {},
     "output_type": "display_data"
    },
    {
     "data": {
      "text/plain": "Trying different ansatz depths:   0%|          | 0/5 [00:00<?, ?it/s]",
      "application/vnd.jupyter.widget-view+json": {
       "version_major": 2,
       "version_minor": 0,
       "model_id": "4ee14cb3395f4e319aefa9196bee3e11"
      }
     },
     "metadata": {},
     "output_type": "display_data"
    }
   ],
   "source": [
    "# Generate data for a whole bunch of depths of U and ansatz.\n",
    "ds = [2, 4, 6, 8, 10, 12, 14, 16, 18, 20]\n",
    "ansatz_reps = [2, 4, 6, 8, 10]\n",
    "save_path = './data/performance-by-depth-and-reps.csv'\n",
    "\n",
    "for d in tqdm(ds, desc='Trying different unitary depths'):\n",
    "    evaluate_at_depth_by_scipy(n=4, d=d, n_U=5, ansatz_reps=ansatz_reps, save_path=save_path, n_train_samples=32, n_val_samples=8, n_epochs=350, verbose=True, overwrite=False)"
   ],
   "metadata": {
    "collapsed": false,
    "ExecuteTime": {
     "end_time": "2024-07-08T07:21:23.136794500Z",
     "start_time": "2024-07-07T21:32:38.829818500Z"
    }
   },
   "id": "ec472a1ca7918f71"
  }
 ],
 "metadata": {
  "kernelspec": {
   "display_name": "Python 3",
   "language": "python",
   "name": "python3"
  },
  "language_info": {
   "codemirror_mode": {
    "name": "ipython",
    "version": 2
   },
   "file_extension": ".py",
   "mimetype": "text/x-python",
   "name": "python",
   "nbconvert_exporter": "python",
   "pygments_lexer": "ipython2",
   "version": "2.7.6"
  }
 },
 "nbformat": 4,
 "nbformat_minor": 5
}
