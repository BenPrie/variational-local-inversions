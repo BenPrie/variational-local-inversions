{
 "cells": [
  {
   "cell_type": "code",
   "execution_count": 1,
   "id": "initial_id",
   "metadata": {
    "collapsed": true,
    "ExecuteTime": {
     "end_time": "2024-07-11T14:06:15.174058200Z",
     "start_time": "2024-07-11T14:06:12.785676100Z"
    }
   },
   "outputs": [
    {
     "name": "stdout",
     "output_type": "stream",
     "text": [
      "Important Package Versions...\n",
      "\n",
      "qiskit                  : 1.1.1\n",
      "qiskit_machine_learning : 0.7.2\n",
      "qiskit_algorithms       : 0.3.0\n",
      "numpy                   : 1.24.3\n",
      "torch                   : 2.3.1\n"
     ]
    }
   ],
   "source": [
    "# Imports...\n",
    "import os.path\n",
    "from os import makedirs\n",
    "from tqdm.notebook import tqdm\n",
    "import pandas as pd\n",
    "import numpy as np\n",
    "\n",
    "# Classical ML.\n",
    "import torch\n",
    "from torch.nn import Module\n",
    "from torch.optim import Adam\n",
    "from torch import manual_seed\n",
    "from torch.utils.data import DataLoader\n",
    "from sklearn.model_selection import train_test_split\n",
    "\n",
    "# Quantum ML.\n",
    "from qiskit_algorithms.utils import algorithm_globals\n",
    "from qiskit.quantum_info.random import random_statevector\n",
    "from qiskit_machine_learning.connectors import TorchConnector\n",
    "from qiskit_machine_learning.neural_networks import SamplerQNN\n",
    "\n",
    "# Version control.\n",
    "from qiskit import __version__ as qiskit_version\n",
    "from qiskit_machine_learning import __version__ as qml_version\n",
    "from qiskit_algorithms import __version__ as alg_version\n",
    "from torch import __version__ as torch_version\n",
    "\n",
    "# Plotting.\n",
    "from IPython.display import clear_output\n",
    "import matplotlib.pyplot as plt\n",
    "import seaborn as sns\n",
    "\n",
    "# Scripts.\n",
    "from scripts.utils import sample_n_states\n",
    "from scripts.circuits import build_circuit\n",
    "from scripts.learning import build_qnn_circuit, train_by_scipy, train_by_COBYLA_no_recylcing, train_by_torch\n",
    "\n",
    "# Styling.\n",
    "sns.set_context('paper')\n",
    "sns.set_theme(style='darkgrid', palette='Dark2')\n",
    "\n",
    "# Device management.\n",
    "if torch.cuda.is_available(): device = torch.device('cuda')\n",
    "else: device = torch.device('cpu')\n",
    "\n",
    "# Random seed setting.\n",
    "def set_seed(seed):\n",
    "    if seed is None: return\n",
    "    \n",
    "    algorithm_globals.random_seed = seed\n",
    "    np.random.seed(seed)\n",
    "    manual_seed(seed)\n",
    "    \n",
    "set_seed(42)\n",
    "\n",
    "# Package versions (ignoring packages that obviously won't be a problem).\n",
    "print('Important Package Versions...\\n')\n",
    "versions = [('qiskit', qiskit_version), ('qiskit_machine_learning', qml_version), ('qiskit_algorithms', alg_version), ('numpy', np.__version__), ('torch', torch_version)]\n",
    "\n",
    "pad = max([len(x) for x, _ in versions])\n",
    "for package, version in versions:\n",
    "    print(f'{package:<{pad}} : {version}')"
   ]
  },
  {
   "cell_type": "markdown",
   "source": [
    "# Learning By Depth\n",
    "\n",
    "We are now more confident that local inversion may be learnt by a variational/QNN approach. The next thing to think about is how well the learning generalises and scales in the complexity of the problem. To that end, we now explore:\n",
    "- Is the performance of our method is a function of the unknown unitary's depth (i.e. if the loss cannot be brought to zero, then does it increase as a function of unitary depth)?\n",
    "- What is the relationship between the depth of the ansatz required to reach a particular performance (e.g. loss no greater than 0.1) and the depth of the unknown unitary?\n",
    "- How does the runtime scale in unitary depth (e.g. when the anstaz depth is kept fixed)?\n",
    "- How many randomly distributed input samples are required to learn a unitary, and how does it depend on the depth of that unitary?"
   ],
   "metadata": {
    "collapsed": false
   },
   "id": "25b7f0ac209c04e0"
  },
  {
   "cell_type": "markdown",
   "source": [
    "## Demonstrating the Learning Algorithm"
   ],
   "metadata": {
    "collapsed": false
   },
   "id": "d4c44506a9bd6c62"
  },
  {
   "cell_type": "code",
   "execution_count": null,
   "outputs": [],
   "source": [
    "# Sample a unitary to learn and choose the target qubits (to learn the local inversion for).\n",
    "n, d = 4, 4\n",
    "U = build_circuit(n=n, d=d)\n",
    "target_qubits = [1, 2]\n",
    "\n",
    "# Build a circuit for the QNN from U.\n",
    "qnn_circuit, input_parameters, weight_parameters = build_qnn_circuit(U, ansatz_reps=3, target_qubits=target_qubits)\n",
    "\n",
    "# Define a QNN object. \n",
    "qnn = SamplerQNN(\n",
    "    circuit=qnn_circuit,\n",
    "    input_params=input_parameters,\n",
    "    weight_params=weight_parameters,\n",
    "    interpret=lambda x: x, # I'm not actually sure you have to explicitly give an identity interpret.\n",
    "    output_shape=2, # When specifying an interpret function, output shape cannot be implied, so we must state it.\n",
    "    input_gradients=True # We must use input gradients to work correctly with PyTorch.\n",
    ")\n",
    "\n",
    "# Explicitly declare initial weights (else they will be uniformly randomly sampled from [-1, 1]).\n",
    "initial_weights = .1 * (2 * algorithm_globals.random.random(qnn.num_weights) - 1)\n",
    "\n",
    "# Define a PyTorch model from the QNN (and move it to device).\n",
    "model = TorchConnector(qnn, initial_weights=initial_weights)\n",
    "model = model.to(device)"
   ],
   "metadata": {
    "collapsed": false
   },
   "id": "f513ca5a09d31963"
  },
  {
   "cell_type": "code",
   "execution_count": null,
   "outputs": [],
   "source": [
    "# Just out of curiosity, what are we learning?\n",
    "U.draw()"
   ],
   "metadata": {
    "collapsed": false
   },
   "id": "9466fcc6077659ca"
  },
  {
   "cell_type": "code",
   "execution_count": null,
   "outputs": [],
   "source": [
    "# Train and validation sets.\n",
    "xs_train = sample_n_states(n_states=24, n_qubits=n)\n",
    "xs_val = sample_n_states(n_states=16, n_qubits=n)\n",
    "\n",
    "# As DataLoaders.\n",
    "batch_size = 8\n",
    "train_loader = DataLoader(xs_train, batch_size=batch_size)\n",
    "val_loader = DataLoader(xs_val, batch_size=batch_size)"
   ],
   "metadata": {
    "collapsed": false
   },
   "id": "dbd0715c5a842a61"
  },
  {
   "cell_type": "markdown",
   "source": [
    "### Optimisation by SciPy methods"
   ],
   "metadata": {
    "collapsed": false
   },
   "id": "398eebecdef5a15"
  },
  {
   "cell_type": "code",
   "execution_count": null,
   "outputs": [],
   "source": [
    "# With recycling (by COBYLA).\n",
    "_ = train_by_scipy(qnn, xs_train, xs_val, n_epochs=500, initial_weights=initial_weights, live_plot=True)"
   ],
   "metadata": {
    "collapsed": false
   },
   "id": "b9fba023c76ec6e7"
  },
  {
   "cell_type": "code",
   "execution_count": null,
   "outputs": [],
   "source": [
    "# Without recycling.\n",
    "_ = train_by_COBYLA_no_recylcing(qnn, batch_size=20, n_epochs=300, initial_weights=initial_weights, live_plot=True)"
   ],
   "metadata": {
    "collapsed": false
   },
   "id": "a45b02df6b00b16c"
  },
  {
   "cell_type": "markdown",
   "source": [
    "### Optimisation by PyTorch methods"
   ],
   "metadata": {
    "collapsed": false
   },
   "id": "81affeb33f3483c1"
  },
  {
   "cell_type": "code",
   "execution_count": null,
   "outputs": [],
   "source": [
    "_ = train_by_torch(model, train_loader, val_loader, n_epochs=100, lr=1e-2, live_plot=True)"
   ],
   "metadata": {
    "collapsed": false
   },
   "id": "5cc29500b23524ad"
  },
  {
   "cell_type": "markdown",
   "source": [
    "## Performance by Depth of $U$\n",
    "\n",
    "At each depth $d$ of $U$, we need to get a sense of how \"difficult\" the learning task is. This \"difficulty\" may as well be quantified by how good we can get performance, or how much resource we need to get adequate performance. For now, the way we'll do it is as follows: to quantify how well we can perform at depth $d$, we will observe the average train and validation losses (again, defined by SWAP tests) we get when training a QNN with fixed-depth ansatz for some sufficiently long time (we're not going to wait for full convergence because we're impatient like that) on a set of $d$-deep unknown unitaries $U$. Some preliminary investigation suggests one $U$ per depth $d$ might actually be enough. We might want to try a few different \"fixed\" depths for the ansatz so that the deeper $U$ are still learnable, but of course we have no idea how $d$ and the depth of the ansatz should be related (yet)."
   ],
   "metadata": {
    "collapsed": false
   },
   "id": "5713db90027b7003"
  },
  {
   "cell_type": "code",
   "execution_count": 2,
   "outputs": [],
   "source": [
    "# Function to evaluate how well we can perform over n_U randomly generated unitaries of depth d, with each depth of ansatz specified in ansatz_reps.\n",
    "def evaluate_at_depth_by_scipy(n, d, n_U, ansatz_reps, save_path, n_train_samples, n_val_samples, n_epochs, method='COYBLA', verbose=False, overwrite=False, zero_threshold=1e-2, early_stop_window=250, early_stop_threshold=1e-2, tol=1e-3, seed=42):\n",
    "    # Reset seed.\n",
    "    set_seed(seed)\n",
    "    \n",
    "    # Checking given path.\n",
    "    assert save_path[-4:] == '.csv', 'Save path must be a .csv file extension.'\n",
    "    \n",
    "    # Ensure the directory to the save path exists.\n",
    "    makedirs(os.path.dirname(save_path), exist_ok=True)\n",
    "    \n",
    "    # If the save file does not already exist, create it with the appropriate headers.\n",
    "    if not os.path.exists(save_path) or overwrite: pd.DataFrame(columns=['id', 'Train Loss', 'Val Loss', 'U Depth', 'No. Qubits', 'Ansatz Depth', 'Mean Epoch Runtime', 'Epochs']).set_index('id').to_csv(save_path)\n",
    "    \n",
    "    # Evaluating over n_U randomly generated unitaries...\n",
    "    for _ in (tqdm(range(n_U), desc='Learning local inversions', leave=False) if verbose else range(n_U)):\n",
    "        # Generate a random unitary.\n",
    "        U = build_circuit(n=n, d=d, seed=None)\n",
    "        \n",
    "        # Arbitrarily choose the target qubits; no need to randomise this choice -- the unitary is already random!\n",
    "        target_qubits = [1, 2]\n",
    "        \n",
    "        # Train and validation sets.\n",
    "        xs_train = sample_n_states(n_states=n_train_samples, n_qubits=n, seed=None)\n",
    "        xs_val = sample_n_states(n_states=n_val_samples, n_qubits=n, seed=None)\n",
    "        \n",
    "        # And evaluating over the depths in ansatz_reps...\n",
    "        for reps in (tqdm(ansatz_reps, desc='Trying different ansatz depths', leave=False) if False else ansatz_reps):\n",
    "            # Build a circuit for the QNN from U.\n",
    "            qnn_circuit, input_parameters, weight_parameters = build_qnn_circuit(U, ansatz_reps=reps, target_qubits=target_qubits, multi_swap=True)\n",
    "            \n",
    "            # Define a QNN object. \n",
    "            qnn = SamplerQNN(\n",
    "                circuit=qnn_circuit,\n",
    "                input_params=input_parameters,\n",
    "                weight_params=weight_parameters,\n",
    "                interpret=lambda x: x,\n",
    "                output_shape=2 ** len(target_qubits), # Multi-qubit SWAP test outputs.\n",
    "                input_gradients=True\n",
    "            )\n",
    "            \n",
    "            # Explicitly declare initial weights (else they will be uniformly randomly sampled from [-1, 1]).\n",
    "            initial_weights = .1 * (2 * algorithm_globals.random.random(qnn.num_weights) - 1)\n",
    "            \n",
    "            # Train the QNN.\n",
    "            stats = train_by_scipy(qnn, xs_train, xs_val, n_epochs, initial_weights, method, zero_threshold=zero_threshold, early_stop_window=early_stop_window, early_stop_threshold=early_stop_threshold, tol=tol, seed=None)\n",
    "            \n",
    "            # Write the stats to the save path.\n",
    "            pd.DataFrame({\n",
    "                'Train Loss': [np.min(stats['train_loss'])], \n",
    "                'Val Loss': [np.min(stats['val_loss'])], \n",
    "                'U Depth': [d], \n",
    "                'No. Qubits': [n], \n",
    "                'Ansatz Depth': [reps], \n",
    "                'Mean Epoch Runtime': [np.mean(stats['runtime'])], \n",
    "                'Epochs': [len(stats['train_loss'])]\n",
    "            }).to_csv(save_path, mode='a', header=False)\n",
    "            \n",
    "    # When all is said and done, let's do the final read of the CSV file to give back.\n",
    "    return pd.read_csv(save_path).set_index('id').reset_index()"
   ],
   "metadata": {
    "collapsed": false,
    "ExecuteTime": {
     "end_time": "2024-07-11T14:06:19.535844700Z",
     "start_time": "2024-07-11T14:06:19.527227900Z"
    }
   },
   "id": "7852a7b31f34f01b"
  },
  {
   "cell_type": "code",
   "execution_count": null,
   "outputs": [],
   "source": [
    "# Testing the function at a depth.       \n",
    "evaluate_at_depth_by_scipy(n=4, d=4, n_U=10, ansatz_reps=[3, 4, 5], save_path='./data/performance-test.csv', n_train_samples=32, n_val_samples=8, n_epochs=500, verbose=True, overwrite=True)"
   ],
   "metadata": {
    "collapsed": false
   },
   "id": "816dd34a3b62a041"
  },
  {
   "cell_type": "code",
   "execution_count": null,
   "outputs": [],
   "source": [
    "sns.barplot(data=pd.read_csv('./data/performance-test.csv'), x='Ansatz Depth', y='Mean Epoch Runtime', capsize=.1)"
   ],
   "metadata": {
    "collapsed": false
   },
   "id": "79a0dba3a0f6f305"
  },
  {
   "cell_type": "code",
   "execution_count": null,
   "outputs": [],
   "source": [
    "# Generate data for a whole bunch of depths of U and ansatz. For reference, this takes ~9 hours 50 minutes.\n",
    "ds = [2, 4, 6, 8, 10, 12, 14, 16, 18, 20]\n",
    "ansatz_reps = [2, 4, 6, 8, 10]\n",
    "save_path = './data/performance-by-depth-and-reps.csv'\n",
    "\n",
    "for d in tqdm(ds, desc='Trying different unitary depths'):\n",
    "    evaluate_at_depth_by_scipy(n=4, d=d, n_U=5, ansatz_reps=ansatz_reps, save_path=save_path, n_train_samples=32, n_val_samples=8, n_epochs=350, verbose=True, overwrite=False)"
   ],
   "metadata": {
    "collapsed": false
   },
   "id": "ec472a1ca7918f71"
  },
  {
   "cell_type": "code",
   "execution_count": null,
   "outputs": [],
   "source": [
    "# Read in all that data.\n",
    "data = pd.read_csv('./data/performance-by-depth-and-reps.csv').set_index('id').reset_index(drop=True)\n",
    "data"
   ],
   "metadata": {
    "collapsed": false
   },
   "id": "b5bb7a726038da0d"
  },
  {
   "cell_type": "code",
   "execution_count": null,
   "outputs": [],
   "source": [
    "# Loss by depth of U (hue on ansatz depth).\n",
    "fig, ax = plt.subplots(1, 1, figsize=(12, 3))\n",
    "\n",
    "# Plot.\n",
    "sns.barplot(data=data, x='U Depth', y='Val Loss', hue='Ansatz Depth', saturation=1, palette='flare', err_kws={'color': 'k', 'linewidth': 1.5}, ax=ax)\n",
    "\n",
    "# Beautification.\n",
    "ax.set_title('Performance by Depth of Unknown $U$')\n",
    "ax.set_xlabel('Depth of $U$')\n",
    "ax.set_ylabel('Validation Loss')\n",
    "ax.legend(loc='center left', bbox_to_anchor=(1, 0.5), title='Ansatz Depth')\n",
    "\n",
    "plt.savefig('./figures/performance-by-depth-bar-plot.pdf', bbox_inches='tight')"
   ],
   "metadata": {
    "collapsed": false
   },
   "id": "8c2630ad3ac99b74"
  },
  {
   "cell_type": "code",
   "execution_count": null,
   "outputs": [],
   "source": [
    "# Closer look at Ansatz depth 4.\n",
    "fig, ax = plt.subplots(1, 1, figsize=(4, 3))\n",
    "\n",
    "# Plot.\n",
    "color = sns.color_palette('flare', n_colors=data['Ansatz Depth'].nunique())[1]\n",
    "sns.scatterplot(data=data[data['Ansatz Depth'] == 4], x='U Depth', y='Val Loss', color=color, ax=ax)\n",
    "sns.lineplot(data=data[data['Ansatz Depth'] == 4], x='U Depth', y='Val Loss', color=color, ax=ax)\n",
    "\n",
    "# Beautification.\n",
    "ax.set_title('Performance by Depth of Unknown $U$')\n",
    "ax.set_xlabel('Depth of $U$')\n",
    "ax.set_ylabel('Validation Loss')\n",
    "\n",
    "plt.savefig('./figures/performance-by-depth-(ansatz=4).pdf', bbox_inches='tight')"
   ],
   "metadata": {
    "collapsed": false
   },
   "id": "e4fe627bfc3fd125"
  },
  {
   "cell_type": "code",
   "execution_count": null,
   "outputs": [],
   "source": [
    "# Looking at runtime.\n",
    "fig, ax = plt.subplots(1, 1, figsize=(12, 3))\n",
    "\n",
    "# Plot.\n",
    "sns.barplot(data=data, x='U Depth', y='Mean Epoch Runtime', hue='Ansatz Depth', saturation=1, palette='flare', err_kws={'color': 'k', 'linewidth': 1.5}, ax=ax)\n",
    "\n",
    "# Beautification.\n",
    "ax.set_title('Performance by Depth of Unknown $U$')\n",
    "ax.set_xlabel('Depth of $U$')\n",
    "ax.legend(loc='center left', bbox_to_anchor=(1, 0.5), title='Ansatz Depth')\n"
   ],
   "metadata": {
    "collapsed": false
   },
   "id": "4d7fa4e66a5b76d5"
  },
  {
   "cell_type": "code",
   "execution_count": null,
   "outputs": [],
   "source": [
    "# Re-running the experiments, but a hell of a lot more of them, for ansatz depth 4 only. For reference, this took ~15 hours\n",
    "ds = np.arange(start=2, stop=22, step=2)\n",
    "ansatz_reps = [4]\n",
    "save_path = './data/performance-by-depth-(reps=4).csv'\n",
    "\n",
    "for d in tqdm(ds, desc='Trying different unitary depths'):\n",
    "    evaluate_at_depth_by_scipy(n=4, d=d, n_U=20, ansatz_reps=ansatz_reps, save_path=save_path, n_train_samples=24, n_val_samples=8, n_epochs=1000, verbose=True, overwrite=False)"
   ],
   "metadata": {
    "collapsed": false
   },
   "id": "bb29b23e955d4038"
  },
  {
   "cell_type": "code",
   "execution_count": null,
   "outputs": [],
   "source": [
    "# Re-running the experiments, but a hell of a lot more of them, for ansatz depth 4 only. For reference, this took ~9.5 hours.\n",
    "ds = np.arange(start=22, stop=32, step=2)\n",
    "ansatz_reps = [4]\n",
    "save_path = './data/performance-by-depth-(reps=4).csv'\n",
    "\n",
    "for d in tqdm(ds, desc='Trying different unitary depths'):\n",
    "    evaluate_at_depth_by_scipy(n=4, d=d, n_U=20, ansatz_reps=ansatz_reps, save_path=save_path, n_train_samples=24, n_val_samples=8, n_epochs=1000, verbose=True, overwrite=False)"
   ],
   "metadata": {
    "collapsed": false
   },
   "id": "9e4bd8c9017cef0d"
  },
  {
   "cell_type": "code",
   "execution_count": null,
   "outputs": [],
   "source": [
    "# Read it in.\n",
    "data = pd.read_csv('./data/performance-by-depth-(reps=4).csv').set_index('id').reset_index(drop=True)\n",
    "data"
   ],
   "metadata": {
    "collapsed": false
   },
   "id": "7ca50ae734e516b2"
  },
  {
   "cell_type": "code",
   "execution_count": null,
   "outputs": [],
   "source": [
    "# Loss by depth of U (hue on ansatz depth).\n",
    "fig, ax = plt.subplots(1, 1, figsize=(12, 3))\n",
    "\n",
    "# Plot.\n",
    "sns.boxplot(data=data, x='U Depth', y='Val Loss', saturation=1, palette='flare', ax=ax)\n",
    "\n",
    "# Beautification.\n",
    "ax.set_title('Performance by Depth of Unknown $U$ (with Ansatz Depth 4)')\n",
    "ax.set_xlabel('Depth of $U$')\n",
    "ax.set_ylabel('Validation Loss')\n",
    "\n",
    "plt.savefig('./figures/performance-by-depth-box-plot-(reps=4).pdf', bbox_inches='tight')"
   ],
   "metadata": {
    "collapsed": false
   },
   "id": "d6693a5eeea0fe79"
  },
  {
   "cell_type": "code",
   "execution_count": null,
   "outputs": [],
   "source": [
    "# Loss by depth of U (hue on ansatz depth).\n",
    "fig, ax = plt.subplots(1, 1, figsize=(16, 3))\n",
    "\n",
    "# Plot.\n",
    "sns.barplot(data=data.melt(id_vars='U Depth', value_vars=['Train Loss', 'Val Loss']), x='U Depth', y='value', hue='variable', saturation=1, palette='flare', err_kws={'color': 'k', 'linewidth': 1.5}, ax=ax)\n",
    "\n",
    "# Beautification.\n",
    "ax.set_title('Performance by Depth of Unknown $U$ (with Ansatz Depth 4)')\n",
    "ax.set_xlabel('Depth of $U$')\n",
    "ax.set_ylabel('Loss')\n",
    "ax.legend()\n",
    "\n",
    "plt.savefig('./figures/performance-by-depth-bar-plot-(reps=4).pdf', bbox_inches='tight')"
   ],
   "metadata": {
    "collapsed": false
   },
   "id": "6d86adf7509eac1a"
  },
  {
   "cell_type": "code",
   "execution_count": null,
   "outputs": [],
   "source": [
    "# Loss by depth of U (hue on ansatz depth).\n",
    "fig, ax = plt.subplots(1, 1, figsize=(4, 3))\n",
    "\n",
    "# Plot.\n",
    "sns.lineplot(data=data.melt(id_vars='U Depth', value_vars=['Train Loss', 'Val Loss']), x='U Depth', y='value', hue='variable', palette='flare', ax=ax)\n",
    "\n",
    "# Beautification.\n",
    "ax.set_title('Performance by Depth of Unknown $U$ (with Ansatz Depth 4)')\n",
    "ax.set_xlabel('Depth of $U$')\n",
    "ax.set_ylabel('Loss')\n",
    "ax.legend()"
   ],
   "metadata": {
    "collapsed": false
   },
   "id": "d690b40fcfdf2538"
  },
  {
   "cell_type": "code",
   "execution_count": null,
   "outputs": [],
   "source": [
    "[data[data['U Depth'] == i]['Val Loss'].mean() for i in data['U Depth'].unique()]"
   ],
   "metadata": {
    "collapsed": false
   },
   "id": "2ae61443cac8e56a"
  },
  {
   "cell_type": "code",
   "execution_count": null,
   "outputs": [],
   "source": [
    "# Loss by depth of U (hue on ansatz depth).\n",
    "fig, ax = plt.subplots(1, 1, figsize=(4, 3))\n",
    "\n",
    "# Plot.\n",
    "sns.lineplot(data=data, x='U Depth', y='Val Loss', err_style='bars', errorbar='ci', err_kws={'ecolor': 'k', 'linewidth': 1, 'capsize': 2}, ax=ax)\n",
    "sns.scatterplot(x=data['U Depth'].unique(), y=[data[data['U Depth'] == i]['Val Loss'].mean() for i in data['U Depth'].unique()], color='k', zorder=10, ax=ax)\n",
    "\n",
    "# Beautification.\n",
    "ax.set_title('Loss by Depth of $U$ (Ansatz Depth 4)')\n",
    "ax.set_xlabel('Depth of $U$')\n",
    "ax.set_ylabel('Val Loss')"
   ],
   "metadata": {
    "collapsed": false
   },
   "id": "32f621f3c273c591"
  },
  {
   "cell_type": "code",
   "execution_count": null,
   "outputs": [],
   "source": [
    "# How many \"arbitrarily close to zero\" outcomes do we get for each U Depth?\n",
    "eps = 1e-2\n",
    "zero_cases_df = data[data['Val Loss'] < eps]['U Depth'].value_counts().sort_index().reset_index()\n",
    "\n",
    "zero_cases_list = []\n",
    "for d in data['U Depth'].unique():\n",
    "    if d in zero_cases_df['U Depth'].unique():\n",
    "        zero_cases_list.append(zero_cases_df[zero_cases_df['U Depth'] == d]['count'].iloc[0] / 20)\n",
    "    else:\n",
    "        zero_cases_list.append(0)\n",
    "\n",
    "print(zero_cases_list)\n",
    "\n",
    "# Plot.\n",
    "fig, ax = plt.subplots(1, 1, figsize=(4, 3))\n",
    "sns.barplot(x=data['U Depth'].unique(), y=zero_cases_list)\n",
    "\n",
    "# Beautification.\n",
    "ax.set_title(\"% 'Zero-loss' Cases per Depth\")\n",
    "ax.set_xlabel('Depth of $U$')\n",
    "ax.set_ylabel('% of Random $U$')\n",
    "\n",
    "plt.savefig('./figures/zero-loss-cases-by-depth-(reps=4).pdf', bbox_inches='tight')"
   ],
   "metadata": {
    "collapsed": false
   },
   "id": "20c208b1020ed696"
  },
  {
   "cell_type": "markdown",
   "source": [
    "## Early Stopping"
   ],
   "metadata": {
    "collapsed": false
   },
   "id": "c13bc4424d235c29"
  },
  {
   "cell_type": "code",
   "execution_count": 8,
   "outputs": [
    {
     "data": {
      "text/plain": "<Figure size 400x300 with 1 Axes>",
      "image/png": "[encoded data removed]"
     },
     "metadata": {},
     "output_type": "display_data"
    }
   ],
   "source": [
    "# Reset the seed.\n",
    "set_seed(42)\n",
    "\n",
    "# Generate a random unitary.\n",
    "U = build_circuit(n=4, d=8, seed=2)\n",
    "\n",
    "# Arbitrarily choose the target qubits; no need to randomise this choice -- the unitary is already random!\n",
    "target_qubits = [1, 2]\n",
    "\n",
    "# Train and validation sets.\n",
    "xs_train = sample_n_states(n_states=16, n_qubits=4, seed=None)\n",
    "xs_val = sample_n_states(n_states=16, n_qubits=4, seed=None)\n",
    "\n",
    "# Build a circuit for the QNN from U.\n",
    "qnn_circuit, input_parameters, weight_parameters = build_qnn_circuit(U, ansatz_reps=4, target_qubits=target_qubits, multi_swap=True)\n",
    "\n",
    "# Define a QNN object. \n",
    "qnn = SamplerQNN(\n",
    "    circuit=qnn_circuit,\n",
    "    input_params=input_parameters,\n",
    "    weight_params=weight_parameters,\n",
    "    interpret=lambda x: x,\n",
    "    output_shape=2 ** len(target_qubits), # Multi-qubit SWAP test outputs.\n",
    "    input_gradients=True\n",
    ")\n",
    "\n",
    "# Explicitly declare initial weights (else they will be uniformly randomly sampled from [-1, 1]).\n",
    "initial_weights = .1 * (2 * algorithm_globals.random.random(qnn.num_weights) - 1)\n",
    "\n",
    "# Train the QNN.\n",
    "stats = train_by_scipy(qnn, xs_train, xs_val, 1000, initial_weights, 'cobyla', zero_threshold=1e-2, early_stop_window=250, early_stop_threshold=2e-2, tol=1e-2, live_plot=True, seed=None)"
   ],
   "metadata": {
    "collapsed": false
   },
   "id": "662376582b9ec712"
  },
  {
   "cell_type": "code",
   "execution_count": 11,
   "outputs": [
    {
     "data": {
      "text/plain": "Trying different unitary depths:   0%|          | 0/10 [00:00<?, ?it/s]",
      "application/vnd.jupyter.widget-view+json": {
       "version_major": 2,
       "version_minor": 0,
       "model_id": "b4c280b4bb9840f3832946d3fc5b3d32"
      }
     },
     "metadata": {},
     "output_type": "display_data"
    },
    {
     "data": {
      "text/plain": "Learning local inversions:   0%|          | 0/50 [00:00<?, ?it/s]",
      "application/vnd.jupyter.widget-view+json": {
       "version_major": 2,
       "version_minor": 0,
       "model_id": "c8853f87f9ad42ae864f1b6cf888aa1c"
      }
     },
     "metadata": {},
     "output_type": "display_data"
    },
    {
     "data": {
      "text/plain": "Learning local inversions:   0%|          | 0/50 [00:00<?, ?it/s]",
      "application/vnd.jupyter.widget-view+json": {
       "version_major": 2,
       "version_minor": 0,
       "model_id": "f9893ec4ba5b48e9883c4cf667db32e0"
      }
     },
     "metadata": {},
     "output_type": "display_data"
    },
    {
     "data": {
      "text/plain": "Learning local inversions:   0%|          | 0/50 [00:00<?, ?it/s]",
      "application/vnd.jupyter.widget-view+json": {
       "version_major": 2,
       "version_minor": 0,
       "model_id": "56ef8c837cac41db86e252c6131750df"
      }
     },
     "metadata": {},
     "output_type": "display_data"
    },
    {
     "data": {
      "text/plain": "Learning local inversions:   0%|          | 0/50 [00:00<?, ?it/s]",
      "application/vnd.jupyter.widget-view+json": {
       "version_major": 2,
       "version_minor": 0,
       "model_id": "300cd81c9a49464d898ce6fd2de46256"
      }
     },
     "metadata": {},
     "output_type": "display_data"
    },
    {
     "data": {
      "text/plain": "Learning local inversions:   0%|          | 0/50 [00:00<?, ?it/s]",
      "application/vnd.jupyter.widget-view+json": {
       "version_major": 2,
       "version_minor": 0,
       "model_id": "47f2ca45f62344598b3b883fda1940f4"
      }
     },
     "metadata": {},
     "output_type": "display_data"
    },
    {
     "data": {
      "text/plain": "Learning local inversions:   0%|          | 0/50 [00:00<?, ?it/s]",
      "application/vnd.jupyter.widget-view+json": {
       "version_major": 2,
       "version_minor": 0,
       "model_id": "232e34dd2c964f43bea625a904ae663f"
      }
     },
     "metadata": {},
     "output_type": "display_data"
    },
    {
     "data": {
      "text/plain": "Learning local inversions:   0%|          | 0/50 [00:00<?, ?it/s]",
      "application/vnd.jupyter.widget-view+json": {
       "version_major": 2,
       "version_minor": 0,
       "model_id": "d99ec7b8b8904dee93506024b8797ff7"
      }
     },
     "metadata": {},
     "output_type": "display_data"
    },
    {
     "data": {
      "text/plain": "Learning local inversions:   0%|          | 0/50 [00:00<?, ?it/s]",
      "application/vnd.jupyter.widget-view+json": {
       "version_major": 2,
       "version_minor": 0,
       "model_id": "7cabe3e8e1594fb595d2dec59a0a7438"
      }
     },
     "metadata": {},
     "output_type": "display_data"
    },
    {
     "data": {
      "text/plain": "Learning local inversions:   0%|          | 0/50 [00:00<?, ?it/s]",
      "application/vnd.jupyter.widget-view+json": {
       "version_major": 2,
       "version_minor": 0,
       "model_id": "0333c0ec1ffa464098691020f7280150"
      }
     },
     "metadata": {},
     "output_type": "display_data"
    },
    {
     "data": {
      "text/plain": "Learning local inversions:   0%|          | 0/50 [00:00<?, ?it/s]",
      "application/vnd.jupyter.widget-view+json": {
       "version_major": 2,
       "version_minor": 0,
       "model_id": "08286fd11289437b84fa3fb1bf205a74"
      }
     },
     "metadata": {},
     "output_type": "display_data"
    }
   ],
   "source": [
    "# Now, a HELL of a lot of data. For reference, this took somewhere around ~52.5 hours to run.\n",
    "ds = [2, 4, 6, 8, 10, 12, 14, 16, 18, 20]\n",
    "ansatz_reps = [4]\n",
    "save_path = './data/performance-by-depth-(reps=4)-early-stop.csv'\n",
    "\n",
    "# Seed setting.\n",
    "seed = 42\n",
    "\n",
    "for d in tqdm(ds, desc='Trying different unitary depths', leave=True):\n",
    "    evaluate_at_depth_by_scipy(n=4, d=d, n_U=50, ansatz_reps=ansatz_reps, save_path=save_path, n_train_samples=16, n_val_samples=16, n_epochs=5000, verbose=True, overwrite=False, zero_threshold=5e-2, early_stop_window=500, early_stop_threshold=1e-3, tol=None, seed=seed)"
   ],
   "metadata": {
    "collapsed": false,
    "ExecuteTime": {
     "end_time": "2024-07-13T19:29:00.743660400Z",
     "start_time": "2024-07-11T14:59:41.769121Z"
    }
   },
   "id": "c35bc470645957ef"
  }
 ],
 "metadata": {
  "kernelspec": {
   "display_name": "Python 3",
   "language": "python",
   "name": "python3"
  },
  "language_info": {
   "codemirror_mode": {
    "name": "ipython",
    "version": 2
   },
   "file_extension": ".py",
   "mimetype": "text/x-python",
   "name": "python",
   "nbconvert_exporter": "python",
   "pygments_lexer": "ipython2",
   "version": "2.7.6"
  }
 },
 "nbformat": 4,
 "nbformat_minor": 5
}
