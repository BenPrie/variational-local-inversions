{
 "cells": [
  {
   "cell_type": "code",
   "execution_count": 1,
   "id": "initial_id",
   "metadata": {
    "collapsed": true,
    "ExecuteTime": {
     "end_time": "2024-07-15T16:37:24.924929400Z",
     "start_time": "2024-07-15T16:37:22.780177100Z"
    }
   },
   "outputs": [
    {
     "name": "stdout",
     "output_type": "stream",
     "text": [
      "Important Package Versions...\n",
      "\n",
      "qiskit                  : 1.1.1\n",
      "qiskit_machine_learning : 0.7.2\n",
      "qiskit_algorithms       : 0.3.0\n",
      "numpy                   : 1.24.3\n",
      "torch                   : 2.3.1\n"
     ]
    }
   ],
   "source": [
    "# Imports...\n",
    "import os.path\n",
    "from os import makedirs\n",
    "from tqdm.notebook import tqdm\n",
    "import pandas as pd\n",
    "import numpy as np\n",
    "\n",
    "# Classical ML.\n",
    "import torch\n",
    "from torch import manual_seed\n",
    "from torch.utils.data import DataLoader\n",
    "\n",
    "# Quantum ML.\n",
    "from qiskit_algorithms.utils import algorithm_globals\n",
    "from qiskit_machine_learning.connectors import TorchConnector\n",
    "from qiskit_machine_learning.neural_networks import SamplerQNN\n",
    "\n",
    "# Version control.\n",
    "from qiskit import __version__ as qiskit_version\n",
    "from qiskit_machine_learning import __version__ as qml_version\n",
    "from qiskit_algorithms import __version__ as alg_version\n",
    "from torch import __version__ as torch_version\n",
    "\n",
    "# Plotting.\n",
    "import matplotlib.pyplot as plt\n",
    "import seaborn as sns\n",
    "\n",
    "# Scripts.\n",
    "from scripts.utils import sample_n_states\n",
    "from scripts.circuits import build_circuit\n",
    "from scripts.learning import build_qnn_circuit, train_by_scipy, train_by_COBYLA_no_recylcing, train_by_torch\n",
    "\n",
    "# Additional imports.\n",
    "from scipy.optimize import curve_fit, least_squares\n",
    "\n",
    "# Styling.\n",
    "sns.set_context('paper')\n",
    "sns.set_theme(style='darkgrid', palette='Dark2')\n",
    "\n",
    "# Device management.\n",
    "if torch.cuda.is_available(): device = torch.device('cuda')\n",
    "else: device = torch.device('cpu')\n",
    "\n",
    "# Random seed setting.\n",
    "def set_seed(seed):\n",
    "    if seed is None: return\n",
    "    \n",
    "    algorithm_globals.random_seed = seed\n",
    "    np.random.seed(seed)\n",
    "    manual_seed(seed)\n",
    "    \n",
    "set_seed(42)\n",
    "\n",
    "# Package versions (ignoring packages that obviously won't be a problem).\n",
    "print('Important Package Versions...\\n')\n",
    "versions = [('qiskit', qiskit_version), ('qiskit_machine_learning', qml_version), ('qiskit_algorithms', alg_version), ('numpy', np.__version__), ('torch', torch_version)]\n",
    "\n",
    "pad = max([len(x) for x, _ in versions])\n",
    "for package, version in versions:\n",
    "    print(f'{package:<{pad}} : {version}')"
   ]
  },
  {
   "cell_type": "markdown",
   "source": [
    "# Learning by Width\n",
    "\n",
    "This notebook concerns itself with understanding performance with respect to the number of qubits. It is also concerned with the estimated number of samples and queries to the unitary."
   ],
   "metadata": {
    "collapsed": false
   },
   "id": "b416cc76fb66dabb"
  },
  {
   "cell_type": "markdown",
   "source": [
    "## Queries"
   ],
   "metadata": {
    "collapsed": false
   },
   "id": "2df3d1c73bfa54be"
  },
  {
   "cell_type": "code",
   "execution_count": 3,
   "outputs": [
    {
     "data": {
      "text/plain": "Top level:   0%|          | 0/3 [00:00<?, ?it/s]",
      "application/vnd.jupyter.widget-view+json": {
       "version_major": 2,
       "version_minor": 0,
       "model_id": "9478c0f8bc454b5fa5c6cbd64384e50c"
      }
     },
     "metadata": {},
     "output_type": "display_data"
    },
    {
     "data": {
      "text/plain": "Bottom level:   0%|          | 0/3 [00:00<?, ?it/s]",
      "application/vnd.jupyter.widget-view+json": {
       "version_major": 2,
       "version_minor": 0,
       "model_id": "aa397dc9c1b64213a47f5b9ad229139c"
      }
     },
     "metadata": {},
     "output_type": "display_data"
    },
    {
     "data": {
      "text/plain": "Bottom level:   0%|          | 0/3 [00:00<?, ?it/s]",
      "application/vnd.jupyter.widget-view+json": {
       "version_major": 2,
       "version_minor": 0,
       "model_id": "55f0d3f743e9445b93ffecdcd4240ec8"
      }
     },
     "metadata": {},
     "output_type": "display_data"
    },
    {
     "data": {
      "text/plain": "Bottom level:   0%|          | 0/3 [00:00<?, ?it/s]",
      "application/vnd.jupyter.widget-view+json": {
       "version_major": 2,
       "version_minor": 0,
       "model_id": "3110767d2a584fc597e358724fac9899"
      }
     },
     "metadata": {},
     "output_type": "display_data"
    },
    {
     "data": {
      "text/plain": "Bottom level:   0%|          | 0/3 [00:00<?, ?it/s]",
      "application/vnd.jupyter.widget-view+json": {
       "version_major": 2,
       "version_minor": 0,
       "model_id": "8a4c51281500431aaac71c046b6a2db9"
      }
     },
     "metadata": {},
     "output_type": "display_data"
    },
    {
     "data": {
      "text/plain": "Bottom level:   0%|          | 0/3 [00:00<?, ?it/s]",
      "application/vnd.jupyter.widget-view+json": {
       "version_major": 2,
       "version_minor": 0,
       "model_id": "1b13a0a3a05447d0b1aa923f63d3fce4"
      }
     },
     "metadata": {},
     "output_type": "display_data"
    },
    {
     "data": {
      "text/plain": "Bottom level:   0%|          | 0/3 [00:00<?, ?it/s]",
      "application/vnd.jupyter.widget-view+json": {
       "version_major": 2,
       "version_minor": 0,
       "model_id": "296dc0c57c4e4358a1147e6d8040f0fa"
      }
     },
     "metadata": {},
     "output_type": "display_data"
    },
    {
     "data": {
      "text/plain": "Bottom level:   0%|          | 0/3 [00:00<?, ?it/s]",
      "application/vnd.jupyter.widget-view+json": {
       "version_major": 2,
       "version_minor": 0,
       "model_id": "8c8bc3a6a1f4470dbe409032d018f49b"
      }
     },
     "metadata": {},
     "output_type": "display_data"
    },
    {
     "data": {
      "text/plain": "Bottom level:   0%|          | 0/3 [00:00<?, ?it/s]",
      "application/vnd.jupyter.widget-view+json": {
       "version_major": 2,
       "version_minor": 0,
       "model_id": "5c8f283167b541fb817cb4e48998d505"
      }
     },
     "metadata": {},
     "output_type": "display_data"
    },
    {
     "data": {
      "text/plain": "Bottom level:   0%|          | 0/3 [00:00<?, ?it/s]",
      "application/vnd.jupyter.widget-view+json": {
       "version_major": 2,
       "version_minor": 0,
       "model_id": "be4d3bbd58804db68fce52c4964cf94b"
      }
     },
     "metadata": {},
     "output_type": "display_data"
    },
    {
     "data": {
      "text/plain": "Bottom level:   0%|          | 0/3 [00:00<?, ?it/s]",
      "application/vnd.jupyter.widget-view+json": {
       "version_major": 2,
       "version_minor": 0,
       "model_id": "ee58839af68b489ea321735f79702869"
      }
     },
     "metadata": {},
     "output_type": "display_data"
    },
    {
     "data": {
      "text/plain": "Bottom level:   0%|          | 0/3 [00:00<?, ?it/s]",
      "application/vnd.jupyter.widget-view+json": {
       "version_major": 2,
       "version_minor": 0,
       "model_id": "d168c65ca0054085a5c8bd0fac96cf4f"
      }
     },
     "metadata": {},
     "output_type": "display_data"
    },
    {
     "data": {
      "text/plain": "Bottom level:   0%|          | 0/3 [00:00<?, ?it/s]",
      "application/vnd.jupyter.widget-view+json": {
       "version_major": 2,
       "version_minor": 0,
       "model_id": "510fb98166154dcbaa7a140b5d076b45"
      }
     },
     "metadata": {},
     "output_type": "display_data"
    },
    {
     "data": {
      "text/plain": "Bottom level:   0%|          | 0/3 [00:00<?, ?it/s]",
      "application/vnd.jupyter.widget-view+json": {
       "version_major": 2,
       "version_minor": 0,
       "model_id": "928f0d9a5d4443f7a8283e73516523a0"
      }
     },
     "metadata": {},
     "output_type": "display_data"
    },
    {
     "data": {
      "text/plain": "Bottom level:   0%|          | 0/3 [00:00<?, ?it/s]",
      "application/vnd.jupyter.widget-view+json": {
       "version_major": 2,
       "version_minor": 0,
       "model_id": "18535812da714cbfa4d94712694c8e6f"
      }
     },
     "metadata": {},
     "output_type": "display_data"
    },
    {
     "data": {
      "text/plain": "Bottom level:   0%|          | 0/3 [00:00<?, ?it/s]",
      "application/vnd.jupyter.widget-view+json": {
       "version_major": 2,
       "version_minor": 0,
       "model_id": "33190692bed34ec78dfff0366dc9e2ac"
      }
     },
     "metadata": {},
     "output_type": "display_data"
    },
    {
     "data": {
      "text/plain": "Bottom level:   0%|          | 0/3 [00:00<?, ?it/s]",
      "application/vnd.jupyter.widget-view+json": {
       "version_major": 2,
       "version_minor": 0,
       "model_id": "c9daef4fc24f4023b14cbc00eac483a9"
      }
     },
     "metadata": {},
     "output_type": "display_data"
    },
    {
     "data": {
      "text/plain": "Bottom level:   0%|          | 0/3 [00:00<?, ?it/s]",
      "application/vnd.jupyter.widget-view+json": {
       "version_major": 2,
       "version_minor": 0,
       "model_id": "2055573d91d949eeb212a54399cde973"
      }
     },
     "metadata": {},
     "output_type": "display_data"
    },
    {
     "data": {
      "text/plain": "Bottom level:   0%|          | 0/3 [00:00<?, ?it/s]",
      "application/vnd.jupyter.widget-view+json": {
       "version_major": 2,
       "version_minor": 0,
       "model_id": "1da4822da5c14b08bab08b408effa0d2"
      }
     },
     "metadata": {},
     "output_type": "display_data"
    },
    {
     "data": {
      "text/plain": "Bottom level:   0%|          | 0/3 [00:00<?, ?it/s]",
      "application/vnd.jupyter.widget-view+json": {
       "version_major": 2,
       "version_minor": 0,
       "model_id": "cf7dc31442174427974ae0299554194c"
      }
     },
     "metadata": {},
     "output_type": "display_data"
    },
    {
     "data": {
      "text/plain": "Bottom level:   0%|          | 0/3 [00:00<?, ?it/s]",
      "application/vnd.jupyter.widget-view+json": {
       "version_major": 2,
       "version_minor": 0,
       "model_id": "039f0a2a8159457b98df2fb3f7d969d0"
      }
     },
     "metadata": {},
     "output_type": "display_data"
    },
    {
     "data": {
      "text/plain": "Bottom level:   0%|          | 0/3 [00:00<?, ?it/s]",
      "application/vnd.jupyter.widget-view+json": {
       "version_major": 2,
       "version_minor": 0,
       "model_id": "8b7f3bda508640968f616b21354b2fd4"
      }
     },
     "metadata": {},
     "output_type": "display_data"
    },
    {
     "data": {
      "text/plain": "Bottom level:   0%|          | 0/3 [00:00<?, ?it/s]",
      "application/vnd.jupyter.widget-view+json": {
       "version_major": 2,
       "version_minor": 0,
       "model_id": "468de25abf3246bfa3e6567613627511"
      }
     },
     "metadata": {},
     "output_type": "display_data"
    },
    {
     "data": {
      "text/plain": "Bottom level:   0%|          | 0/3 [00:00<?, ?it/s]",
      "application/vnd.jupyter.widget-view+json": {
       "version_major": 2,
       "version_minor": 0,
       "model_id": "e8a53d2e2d384a8689bf0d2b9bb49801"
      }
     },
     "metadata": {},
     "output_type": "display_data"
    },
    {
     "data": {
      "text/plain": "Bottom level:   0%|          | 0/3 [00:00<?, ?it/s]",
      "application/vnd.jupyter.widget-view+json": {
       "version_major": 2,
       "version_minor": 0,
       "model_id": "31f7b7c48512454b991b6af6aad61c14"
      }
     },
     "metadata": {},
     "output_type": "display_data"
    },
    {
     "data": {
      "text/plain": "Bottom level:   0%|          | 0/3 [00:00<?, ?it/s]",
      "application/vnd.jupyter.widget-view+json": {
       "version_major": 2,
       "version_minor": 0,
       "model_id": "6cb3d74cb91440aaa6abbe1b321f18f4"
      }
     },
     "metadata": {},
     "output_type": "display_data"
    },
    {
     "data": {
      "text/plain": "Bottom level:   0%|          | 0/3 [00:00<?, ?it/s]",
      "application/vnd.jupyter.widget-view+json": {
       "version_major": 2,
       "version_minor": 0,
       "model_id": "fc762eb3d46a4da49f2bab23b95bd840"
      }
     },
     "metadata": {},
     "output_type": "display_data"
    },
    {
     "data": {
      "text/plain": "Bottom level:   0%|          | 0/3 [00:00<?, ?it/s]",
      "application/vnd.jupyter.widget-view+json": {
       "version_major": 2,
       "version_minor": 0,
       "model_id": "5805309dab9446a8be772eec9b13fabf"
      }
     },
     "metadata": {},
     "output_type": "display_data"
    },
    {
     "data": {
      "text/plain": "Bottom level:   0%|          | 0/3 [00:00<?, ?it/s]",
      "application/vnd.jupyter.widget-view+json": {
       "version_major": 2,
       "version_minor": 0,
       "model_id": "974860f5df6544659ef330db4a5ffd1a"
      }
     },
     "metadata": {},
     "output_type": "display_data"
    },
    {
     "data": {
      "text/plain": "Bottom level:   0%|          | 0/3 [00:00<?, ?it/s]",
      "application/vnd.jupyter.widget-view+json": {
       "version_major": 2,
       "version_minor": 0,
       "model_id": "e58341f543b646a3b174935c4072d3a9"
      }
     },
     "metadata": {},
     "output_type": "display_data"
    },
    {
     "data": {
      "text/plain": "Bottom level:   0%|          | 0/3 [00:00<?, ?it/s]",
      "application/vnd.jupyter.widget-view+json": {
       "version_major": 2,
       "version_minor": 0,
       "model_id": "837a324573e948e6bd8982a6ed4c419d"
      }
     },
     "metadata": {},
     "output_type": "display_data"
    },
    {
     "data": {
      "text/plain": "Bottom level:   0%|          | 0/3 [00:00<?, ?it/s]",
      "application/vnd.jupyter.widget-view+json": {
       "version_major": 2,
       "version_minor": 0,
       "model_id": "ad0e7b3090e544a8ae85e1dfdff0108c"
      }
     },
     "metadata": {},
     "output_type": "display_data"
    },
    {
     "data": {
      "text/plain": "Bottom level:   0%|          | 0/3 [00:00<?, ?it/s]",
      "application/vnd.jupyter.widget-view+json": {
       "version_major": 2,
       "version_minor": 0,
       "model_id": "1f3ec6cd5888418ebd4849dfdd2d094e"
      }
     },
     "metadata": {},
     "output_type": "display_data"
    },
    {
     "data": {
      "text/plain": "Bottom level:   0%|          | 0/3 [00:00<?, ?it/s]",
      "application/vnd.jupyter.widget-view+json": {
       "version_major": 2,
       "version_minor": 0,
       "model_id": "7bf4e04dcb6043feb929059b5531d3bb"
      }
     },
     "metadata": {},
     "output_type": "display_data"
    },
    {
     "data": {
      "text/plain": "Bottom level:   0%|          | 0/3 [00:00<?, ?it/s]",
      "application/vnd.jupyter.widget-view+json": {
       "version_major": 2,
       "version_minor": 0,
       "model_id": "8f0116c019dc471696ab2d15422e92d7"
      }
     },
     "metadata": {},
     "output_type": "display_data"
    },
    {
     "data": {
      "text/plain": "Bottom level:   0%|          | 0/3 [00:00<?, ?it/s]",
      "application/vnd.jupyter.widget-view+json": {
       "version_major": 2,
       "version_minor": 0,
       "model_id": "f4645b2d4de94d9292abc272789fc31e"
      }
     },
     "metadata": {},
     "output_type": "display_data"
    },
    {
     "data": {
      "text/plain": "Bottom level:   0%|          | 0/3 [00:00<?, ?it/s]",
      "application/vnd.jupyter.widget-view+json": {
       "version_major": 2,
       "version_minor": 0,
       "model_id": "ef29a0c0b6964f7cbdd6b489b662df88"
      }
     },
     "metadata": {},
     "output_type": "display_data"
    },
    {
     "data": {
      "text/plain": "Bottom level:   0%|          | 0/3 [00:00<?, ?it/s]",
      "application/vnd.jupyter.widget-view+json": {
       "version_major": 2,
       "version_minor": 0,
       "model_id": "134685559eae44b19143bfa44c55df4c"
      }
     },
     "metadata": {},
     "output_type": "display_data"
    },
    {
     "data": {
      "text/plain": "Bottom level:   0%|          | 0/3 [00:00<?, ?it/s]",
      "application/vnd.jupyter.widget-view+json": {
       "version_major": 2,
       "version_minor": 0,
       "model_id": "6b9c69b7fdea43278bede910ab769f57"
      }
     },
     "metadata": {},
     "output_type": "display_data"
    },
    {
     "data": {
      "text/plain": "Bottom level:   0%|          | 0/3 [00:00<?, ?it/s]",
      "application/vnd.jupyter.widget-view+json": {
       "version_major": 2,
       "version_minor": 0,
       "model_id": "bdf4a469db8147e9980baa784a7fccbe"
      }
     },
     "metadata": {},
     "output_type": "display_data"
    },
    {
     "data": {
      "text/plain": "Bottom level:   0%|          | 0/3 [00:00<?, ?it/s]",
      "application/vnd.jupyter.widget-view+json": {
       "version_major": 2,
       "version_minor": 0,
       "model_id": "648bcbef428543ed98dceeea64c958dc"
      }
     },
     "metadata": {},
     "output_type": "display_data"
    },
    {
     "data": {
      "text/plain": "Bottom level:   0%|          | 0/3 [00:00<?, ?it/s]",
      "application/vnd.jupyter.widget-view+json": {
       "version_major": 2,
       "version_minor": 0,
       "model_id": "275fccb130e444749daf008df4066adf"
      }
     },
     "metadata": {},
     "output_type": "display_data"
    },
    {
     "data": {
      "text/plain": "Bottom level:   0%|          | 0/3 [00:00<?, ?it/s]",
      "application/vnd.jupyter.widget-view+json": {
       "version_major": 2,
       "version_minor": 0,
       "model_id": "83089210c3e546fc985ef767d24ba477"
      }
     },
     "metadata": {},
     "output_type": "display_data"
    },
    {
     "data": {
      "text/plain": "Bottom level:   0%|          | 0/3 [00:00<?, ?it/s]",
      "application/vnd.jupyter.widget-view+json": {
       "version_major": 2,
       "version_minor": 0,
       "model_id": "525d2da6d34a40519f5cfb3319ca3549"
      }
     },
     "metadata": {},
     "output_type": "display_data"
    },
    {
     "data": {
      "text/plain": "Bottom level:   0%|          | 0/3 [00:00<?, ?it/s]",
      "application/vnd.jupyter.widget-view+json": {
       "version_major": 2,
       "version_minor": 0,
       "model_id": "508bd04d7638479ea96dce62472a3d46"
      }
     },
     "metadata": {},
     "output_type": "display_data"
    },
    {
     "data": {
      "text/plain": "Bottom level:   0%|          | 0/3 [00:00<?, ?it/s]",
      "application/vnd.jupyter.widget-view+json": {
       "version_major": 2,
       "version_minor": 0,
       "model_id": "48dc0725f00b41eda7fe095ef03756cb"
      }
     },
     "metadata": {},
     "output_type": "display_data"
    }
   ],
   "source": [
    "# For reference, the below took ~21.3 hours.\n",
    "\n",
    "# Hyperparameters.\n",
    "ns = [3, 4, 5]\n",
    "ds = [5, 15, 25]\n",
    "n_U = 3\n",
    "target_qubits = [1, 2]\n",
    "ansatz_reps = 4\n",
    "max_epochs = 3000\n",
    "zero_threshold = 5e-2\n",
    "early_stop_window = 250\n",
    "early_stop_threshold = 1e-3\n",
    "tol = None\n",
    "\n",
    "# Save path.\n",
    "save_path = './data/performance-by-width-early-stop.csv'\n",
    "\n",
    "# Ensure the directory to the save path exists.\n",
    "makedirs(os.path.dirname(save_path), exist_ok=True)\n",
    "\n",
    "# If the save file does not already exist, create it with the appropriate headers.\n",
    "if not os.path.exists(save_path): pd.DataFrame(columns=['id', 'Train Loss', 'Val Loss', 'U Depth', 'No. Qubits', 'No. Samples', 'Ansatz Depth', 'Mean Epoch Runtime', 'Epochs']).set_index('id').to_csv(save_path)\n",
    "\n",
    "for n in tqdm(ns, desc='Top level'):\n",
    "    # Common validation set.\n",
    "    xs_val = sample_n_states(n_states=64, n_qubits=n, seed=None)\n",
    "    \n",
    "    for d in ds:\n",
    "        for n_samples in (2 ** i for i in range(n + 1)):\n",
    "            # Train set.\n",
    "            xs_train = sample_n_states(n_states=n_samples, n_qubits=n, seed=None)\n",
    "            \n",
    "            for _ in tqdm(range(n_U), desc='Bottom level',leave=False):\n",
    "                # Generate a random unitary.\n",
    "                U = build_circuit(n=n, d=d, seed=None)\n",
    "                \n",
    "                # Build a circuit for the QNN from U.\n",
    "                qnn_circuit, input_parameters, weight_parameters = build_qnn_circuit(U, ansatz_reps=ansatz_reps, target_qubits=target_qubits, multi_swap=True)\n",
    "                \n",
    "                # Define a QNN object. \n",
    "                qnn = SamplerQNN(\n",
    "                    circuit=qnn_circuit,\n",
    "                    input_params=input_parameters,\n",
    "                    weight_params=weight_parameters,\n",
    "                    interpret=lambda x: x,\n",
    "                    output_shape=2 ** len(target_qubits), # Multi-qubit SWAP test outputs.\n",
    "                    input_gradients=True\n",
    "                )\n",
    "                \n",
    "                # Explicitly declare initial weights (else they will be uniformly randomly sampled from [-1, 1]).\n",
    "                initial_weights = .1 * (2 * algorithm_globals.random.random(qnn.num_weights) - 1)\n",
    "                \n",
    "                # Train the QNN.\n",
    "                stats = train_by_scipy(qnn, xs_train, xs_val, max_epochs, initial_weights, method='cobyla', zero_threshold=zero_threshold, early_stop_window=early_stop_window, early_stop_threshold=early_stop_threshold, early_stop_on_train=True, tol=tol, seed=None, live_plot=False)\n",
    "                \n",
    "                # Write the stats to the save path.\n",
    "                pd.DataFrame({\n",
    "                    'Train Loss': [np.min(stats['train_loss'])], \n",
    "                    'Val Loss': [np.min(stats['val_loss'])], \n",
    "                    'U Depth': [d], \n",
    "                    'No. Qubits': [n], \n",
    "                    'No. Samples' : [n_samples],\n",
    "                    'Ansatz Depth': [ansatz_reps], \n",
    "                    'Mean Epoch Runtime': [np.mean(stats['runtime'])], \n",
    "                    'Epochs': [len(stats['train_loss'])]\n",
    "                }).to_csv(save_path, mode='a', header=False)"
   ],
   "metadata": {
    "collapsed": false,
    "ExecuteTime": {
     "end_time": "2024-07-16T14:24:05.697726300Z",
     "start_time": "2024-07-15T17:04:07.590556800Z"
    }
   },
   "id": "15110b0b5dd91d43"
  },
  {
   "cell_type": "code",
   "execution_count": 5,
   "outputs": [
    {
     "data": {
      "text/plain": "     Train Loss  Val Loss  U Depth  No. Qubits  No. Samples  Ansatz Depth  \\\n0      0.000000  0.351082        5           3            1             4   \n1      0.000000  0.318881        5           3            1             4   \n2      0.000000  0.346911        5           3            1             4   \n3      0.000000  0.331450        5           3            2             4   \n4      0.000000  0.410252        5           3            2             4   \n..          ...       ...      ...         ...          ...           ...   \n129    0.119415  0.183151       25           5           16             4   \n130    0.210859  0.280683       25           5           16             4   \n131    0.188455  0.242897       25           5           16             4   \n132    0.228749  0.279207       25           5           32             4   \n133    0.267704  0.285896       25           5           32             4   \n\n     Mean Epoch Runtime  Epochs  \n0              0.307640     290  \n1              0.297283     290  \n2              0.297781     261  \n3              0.300437     315  \n4              0.300854     284  \n..                  ...     ...  \n129            1.043202    2438  \n130            1.044225     961  \n131            1.043311    1696  \n132            1.351756    1012  \n133            1.346208    1418  \n\n[134 rows x 8 columns]",
      "text/html": "<div>\n<style scoped>\n    .dataframe tbody tr th:only-of-type {\n        vertical-align: middle;\n    }\n\n    .dataframe tbody tr th {\n        vertical-align: top;\n    }\n\n    .dataframe thead th {\n        text-align: right;\n    }\n</style>\n<table border=\"1\" class=\"dataframe\">\n  <thead>\n    <tr style=\"text-align: right;\">\n      <th></th>\n      <th>Train Loss</th>\n      <th>Val Loss</th>\n      <th>U Depth</th>\n      <th>No. Qubits</th>\n      <th>No. Samples</th>\n      <th>Ansatz Depth</th>\n      <th>Mean Epoch Runtime</th>\n      <th>Epochs</th>\n    </tr>\n  </thead>\n  <tbody>\n    <tr>\n      <th>0</th>\n      <td>0.000000</td>\n      <td>0.351082</td>\n      <td>5</td>\n      <td>3</td>\n      <td>1</td>\n      <td>4</td>\n      <td>0.307640</td>\n      <td>290</td>\n    </tr>\n    <tr>\n      <th>1</th>\n      <td>0.000000</td>\n      <td>0.318881</td>\n      <td>5</td>\n      <td>3</td>\n      <td>1</td>\n      <td>4</td>\n      <td>0.297283</td>\n      <td>290</td>\n    </tr>\n    <tr>\n      <th>2</th>\n      <td>0.000000</td>\n      <td>0.346911</td>\n      <td>5</td>\n      <td>3</td>\n      <td>1</td>\n      <td>4</td>\n      <td>0.297781</td>\n      <td>261</td>\n    </tr>\n    <tr>\n      <th>3</th>\n      <td>0.000000</td>\n      <td>0.331450</td>\n      <td>5</td>\n      <td>3</td>\n      <td>2</td>\n      <td>4</td>\n      <td>0.300437</td>\n      <td>315</td>\n    </tr>\n    <tr>\n      <th>4</th>\n      <td>0.000000</td>\n      <td>0.410252</td>\n      <td>5</td>\n      <td>3</td>\n      <td>2</td>\n      <td>4</td>\n      <td>0.300854</td>\n      <td>284</td>\n    </tr>\n    <tr>\n      <th>...</th>\n      <td>...</td>\n      <td>...</td>\n      <td>...</td>\n      <td>...</td>\n      <td>...</td>\n      <td>...</td>\n      <td>...</td>\n      <td>...</td>\n    </tr>\n    <tr>\n      <th>129</th>\n      <td>0.119415</td>\n      <td>0.183151</td>\n      <td>25</td>\n      <td>5</td>\n      <td>16</td>\n      <td>4</td>\n      <td>1.043202</td>\n      <td>2438</td>\n    </tr>\n    <tr>\n      <th>130</th>\n      <td>0.210859</td>\n      <td>0.280683</td>\n      <td>25</td>\n      <td>5</td>\n      <td>16</td>\n      <td>4</td>\n      <td>1.044225</td>\n      <td>961</td>\n    </tr>\n    <tr>\n      <th>131</th>\n      <td>0.188455</td>\n      <td>0.242897</td>\n      <td>25</td>\n      <td>5</td>\n      <td>16</td>\n      <td>4</td>\n      <td>1.043311</td>\n      <td>1696</td>\n    </tr>\n    <tr>\n      <th>132</th>\n      <td>0.228749</td>\n      <td>0.279207</td>\n      <td>25</td>\n      <td>5</td>\n      <td>32</td>\n      <td>4</td>\n      <td>1.351756</td>\n      <td>1012</td>\n    </tr>\n    <tr>\n      <th>133</th>\n      <td>0.267704</td>\n      <td>0.285896</td>\n      <td>25</td>\n      <td>5</td>\n      <td>32</td>\n      <td>4</td>\n      <td>1.346208</td>\n      <td>1418</td>\n    </tr>\n  </tbody>\n</table>\n<p>134 rows × 8 columns</p>\n</div>"
     },
     "execution_count": 5,
     "metadata": {},
     "output_type": "execute_result"
    }
   ],
   "source": [
    "# Read in data.\n",
    "data = pd.read_csv('./data/performance-by-width-early-stop.csv').set_index('id').reset_index(drop=True)\n",
    "\n",
    "# Any losses below the threshold (.05 here) can be said to be convergent on 0.\n",
    "data['Val Loss'] = data['Val Loss'].apply(lambda x: 0 if x < 0.05 else x) \n",
    "data['Train Loss'] = data['Train Loss'].apply(lambda x: 0 if x < 0.05 else x) \n",
    "data"
   ],
   "metadata": {
    "collapsed": false,
    "ExecuteTime": {
     "end_time": "2024-07-16T16:08:41.371318900Z",
     "start_time": "2024-07-16T16:08:41.339012400Z"
    }
   },
   "id": "c30b445c69e729fb"
  },
  {
   "cell_type": "code",
   "execution_count": 6,
   "outputs": [
    {
     "data": {
      "text/plain": "<Axes: xlabel='No. Samples', ylabel='Val Loss'>"
     },
     "execution_count": 6,
     "metadata": {},
     "output_type": "execute_result"
    },
    {
     "data": {
      "text/plain": "<Figure size 640x480 with 1 Axes>",
      "image/png": "[encoded data removed]"
     },
     "metadata": {},
     "output_type": "display_data"
    }
   ],
   "source": [
    "sns.barplot(data=data, x='No. Samples', y='Val Loss', hue='U Depth')"
   ],
   "metadata": {
    "collapsed": false,
    "ExecuteTime": {
     "end_time": "2024-07-16T16:29:05.510391100Z",
     "start_time": "2024-07-16T16:29:04.652458500Z"
    }
   },
   "id": "80a601b6b9c98424"
  },
  {
   "cell_type": "code",
   "execution_count": 7,
   "outputs": [
    {
     "data": {
      "text/plain": "<Axes: xlabel='No. Samples', ylabel='Val Loss'>"
     },
     "execution_count": 7,
     "metadata": {},
     "output_type": "execute_result"
    },
    {
     "data": {
      "text/plain": "<Figure size 640x480 with 1 Axes>",
      "image/png": "[encoded data removed]"
     },
     "metadata": {},
     "output_type": "display_data"
    }
   ],
   "source": [
    "sns.barplot(data=data, x='No. Samples', y='Val Loss', hue='No. Qubits')"
   ],
   "metadata": {
    "collapsed": false,
    "ExecuteTime": {
     "end_time": "2024-07-16T16:29:51.248079800Z",
     "start_time": "2024-07-16T16:29:50.792888100Z"
    }
   },
   "id": "4e71ac6a26ac5210"
  }
 ],
 "metadata": {
  "kernelspec": {
   "display_name": "Python 3",
   "language": "python",
   "name": "python3"
  },
  "language_info": {
   "codemirror_mode": {
    "name": "ipython",
    "version": 2
   },
   "file_extension": ".py",
   "mimetype": "text/x-python",
   "name": "python",
   "nbconvert_exporter": "python",
   "pygments_lexer": "ipython2",
   "version": "2.7.6"
  }
 },
 "nbformat": 4,
 "nbformat_minor": 5
}
